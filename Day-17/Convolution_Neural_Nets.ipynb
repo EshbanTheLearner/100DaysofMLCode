{
 "cells": [
  {
   "cell_type": "markdown",
   "metadata": {},
   "source": [
    "# Importing Tensorflow"
   ]
  },
  {
   "cell_type": "code",
   "execution_count": 0,
   "metadata": {
    "colab": {},
    "colab_type": "code",
    "id": "rNAQZ4LWktWY"
   },
   "outputs": [],
   "source": [
    "import tensorflow as tf"
   ]
  },
  {
   "cell_type": "markdown",
   "metadata": {},
   "source": [
    "# Loading MNIST Dataset"
   ]
  },
  {
   "cell_type": "code",
   "execution_count": 0,
   "metadata": {
    "colab": {},
    "colab_type": "code",
    "id": "eQg9R1cUlN18"
   },
   "outputs": [],
   "source": [
    "from tensorflow.examples.tutorials.mnist import input_data"
   ]
  },
  {
   "cell_type": "code",
   "execution_count": 3,
   "metadata": {
    "colab": {
     "base_uri": "https://localhost:8080/",
     "height": 530
    },
    "colab_type": "code",
    "id": "sUvlXzUglapI",
    "outputId": "28398bce-e9ef-4ba9-918e-e43be0d21c31"
   },
   "outputs": [
    {
     "name": "stdout",
     "output_type": "stream",
     "text": [
      "WARNING:tensorflow:From <ipython-input-3-1a516c502833>:1: read_data_sets (from tensorflow.contrib.learn.python.learn.datasets.mnist) is deprecated and will be removed in a future version.\n",
      "Instructions for updating:\n",
      "Please use alternatives such as official/mnist/dataset.py from tensorflow/models.\n",
      "WARNING:tensorflow:From /usr/local/lib/python3.6/dist-packages/tensorflow/contrib/learn/python/learn/datasets/mnist.py:260: maybe_download (from tensorflow.contrib.learn.python.learn.datasets.base) is deprecated and will be removed in a future version.\n",
      "Instructions for updating:\n",
      "Please write your own downloading logic.\n",
      "WARNING:tensorflow:From /usr/local/lib/python3.6/dist-packages/tensorflow/contrib/learn/python/learn/datasets/base.py:252: _internal_retry.<locals>.wrap.<locals>.wrapped_fn (from tensorflow.contrib.learn.python.learn.datasets.base) is deprecated and will be removed in a future version.\n",
      "Instructions for updating:\n",
      "Please use urllib or similar directly.\n",
      "Successfully downloaded train-images-idx3-ubyte.gz 9912422 bytes.\n",
      "WARNING:tensorflow:From /usr/local/lib/python3.6/dist-packages/tensorflow/contrib/learn/python/learn/datasets/mnist.py:262: extract_images (from tensorflow.contrib.learn.python.learn.datasets.mnist) is deprecated and will be removed in a future version.\n",
      "Instructions for updating:\n",
      "Please use tf.data to implement this functionality.\n",
      "Extracting MNIST_data/train-images-idx3-ubyte.gz\n",
      "Successfully downloaded train-labels-idx1-ubyte.gz 28881 bytes.\n",
      "WARNING:tensorflow:From /usr/local/lib/python3.6/dist-packages/tensorflow/contrib/learn/python/learn/datasets/mnist.py:267: extract_labels (from tensorflow.contrib.learn.python.learn.datasets.mnist) is deprecated and will be removed in a future version.\n",
      "Instructions for updating:\n",
      "Please use tf.data to implement this functionality.\n",
      "Extracting MNIST_data/train-labels-idx1-ubyte.gz\n",
      "WARNING:tensorflow:From /usr/local/lib/python3.6/dist-packages/tensorflow/contrib/learn/python/learn/datasets/mnist.py:110: dense_to_one_hot (from tensorflow.contrib.learn.python.learn.datasets.mnist) is deprecated and will be removed in a future version.\n",
      "Instructions for updating:\n",
      "Please use tf.one_hot on tensors.\n",
      "Successfully downloaded t10k-images-idx3-ubyte.gz 1648877 bytes.\n",
      "Extracting MNIST_data/t10k-images-idx3-ubyte.gz\n",
      "Successfully downloaded t10k-labels-idx1-ubyte.gz 4542 bytes.\n",
      "Extracting MNIST_data/t10k-labels-idx1-ubyte.gz\n",
      "WARNING:tensorflow:From /usr/local/lib/python3.6/dist-packages/tensorflow/contrib/learn/python/learn/datasets/mnist.py:290: DataSet.__init__ (from tensorflow.contrib.learn.python.learn.datasets.mnist) is deprecated and will be removed in a future version.\n",
      "Instructions for updating:\n",
      "Please use alternatives such as official/mnist/dataset.py from tensorflow/models.\n"
     ]
    }
   ],
   "source": [
    "mnist = input_data.read_data_sets(\"MNIST_data/\", one_hot = True)"
   ]
  },
  {
   "cell_type": "markdown",
   "metadata": {},
   "source": [
    "# Some Utility Functions"
   ]
  },
  {
   "cell_type": "markdown",
   "metadata": {},
   "source": [
    "## Initializing Weights"
   ]
  },
  {
   "cell_type": "code",
   "execution_count": 0,
   "metadata": {
    "colab": {},
    "colab_type": "code",
    "id": "RvQkGdPhlqcV"
   },
   "outputs": [],
   "source": [
    "def init_weights(shape):\n",
    "    init_random_dist = tf.truncated_normal(shape, stddev = 0.1)\n",
    "    return tf.Variable(init_random_dist)"
   ]
  },
  {
   "cell_type": "markdown",
   "metadata": {},
   "source": [
    "## Initializing Biases"
   ]
  },
  {
   "cell_type": "code",
   "execution_count": 0,
   "metadata": {
    "colab": {},
    "colab_type": "code",
    "id": "PrqjbDicmWK6"
   },
   "outputs": [],
   "source": [
    "def init_bias(shape):\n",
    "    init_bias_vals = tf.constant(0.1, shape = shape)\n",
    "    return tf.Variable(init_bias_vals)"
   ]
  },
  {
   "cell_type": "markdown",
   "metadata": {},
   "source": [
    "## Applying Convolution"
   ]
  },
  {
   "cell_type": "code",
   "execution_count": 0,
   "metadata": {
    "colab": {},
    "colab_type": "code",
    "id": "dpGsGGH2nFg5"
   },
   "outputs": [],
   "source": [
    "def conv2d(x, W):\n",
    "    return tf.nn.conv2d(x, W, strides = [1,1,1,1], padding = 'SAME')"
   ]
  },
  {
   "cell_type": "markdown",
   "metadata": {},
   "source": [
    "## Applying Max Pooling"
   ]
  },
  {
   "cell_type": "code",
   "execution_count": 0,
   "metadata": {
    "colab": {},
    "colab_type": "code",
    "id": "miDDErX_nsAS"
   },
   "outputs": [],
   "source": [
    "def max_pool_2by2(x):\n",
    "    return tf.nn.max_pool(x, ksize = [1,2,2,1], strides = [1,2,2,1], padding = 'SAME')"
   ]
  },
  {
   "cell_type": "markdown",
   "metadata": {},
   "source": [
    "## Adding a Convolutional Layer"
   ]
  },
  {
   "cell_type": "code",
   "execution_count": 0,
   "metadata": {
    "colab": {},
    "colab_type": "code",
    "id": "yO5XNrG3n-9T"
   },
   "outputs": [],
   "source": [
    "def convolutional_layer(input_x, shape):\n",
    "    W = init_weights(shape)\n",
    "    b = init_bias([shape[3]])\n",
    "    return tf.nn.relu(conv2d(input_x, W) + b)"
   ]
  },
  {
   "cell_type": "markdown",
   "metadata": {},
   "source": [
    "## Adding a DNN Layer"
   ]
  },
  {
   "cell_type": "code",
   "execution_count": 0,
   "metadata": {
    "colab": {},
    "colab_type": "code",
    "id": "B6LMBecvoFxa"
   },
   "outputs": [],
   "source": [
    "def normal_full_layer(input_layer, size):\n",
    "    input_size = int(input_layer.get_shape()[1])\n",
    "    W = init_weights([input_size, size])\n",
    "    b = init_bias([size])\n",
    "    return tf.matmul(input_layer, W) + b"
   ]
  },
  {
   "cell_type": "markdown",
   "metadata": {},
   "source": [
    "# Placeholders"
   ]
  },
  {
   "cell_type": "code",
   "execution_count": 0,
   "metadata": {
    "colab": {},
    "colab_type": "code",
    "id": "RolEVXoSoFmk"
   },
   "outputs": [],
   "source": [
    "x = tf.placeholder(tf.float32, shape = [None, 784])"
   ]
  },
  {
   "cell_type": "code",
   "execution_count": 0,
   "metadata": {
    "colab": {},
    "colab_type": "code",
    "id": "E0uvF0bOoFYi"
   },
   "outputs": [],
   "source": [
    "y_true = tf.placeholder(tf.float32, shape = [None, 10])"
   ]
  },
  {
   "cell_type": "code",
   "execution_count": 0,
   "metadata": {
    "colab": {},
    "colab_type": "code",
    "id": "sMfpBumDpY_v"
   },
   "outputs": [],
   "source": [
    "x_image = tf.reshape(x, [-1,28,28,1])"
   ]
  },
  {
   "cell_type": "markdown",
   "metadata": {},
   "source": [
    "# Laying First Convolutional & Max Pooling Layer"
   ]
  },
  {
   "cell_type": "code",
   "execution_count": 0,
   "metadata": {
    "colab": {},
    "colab_type": "code",
    "id": "J30QS-WepY7y"
   },
   "outputs": [],
   "source": [
    "convo_1 = convolutional_layer(x_image, shape = [6,6,1,32])\n",
    "convo_1_pooling = max_pool_2by2(convo_1)"
   ]
  },
  {
   "cell_type": "markdown",
   "metadata": {},
   "source": [
    "# Laying Second Convolutional & Max Pooling Layer"
   ]
  },
  {
   "cell_type": "code",
   "execution_count": 0,
   "metadata": {
    "colab": {},
    "colab_type": "code",
    "id": "nMppTKrfpY6A"
   },
   "outputs": [],
   "source": [
    "convo_2 = convolutional_layer(convo_1_pooling, shape = [6,6,32,64])\n",
    "convo_2_pooling = max_pool_2by2(convo_2)"
   ]
  },
  {
   "cell_type": "markdown",
   "metadata": {},
   "source": [
    "# Flattening Layer"
   ]
  },
  {
   "cell_type": "code",
   "execution_count": 0,
   "metadata": {
    "colab": {},
    "colab_type": "code",
    "id": "TSPhmiJApY2N"
   },
   "outputs": [],
   "source": [
    "convo_2_flat = tf.reshape(convo_2_pooling, [-1, 7*7*64])\n",
    "full_layer_one = tf.nn.relu(normal_full_layer(convo_2_flat, 1024))"
   ]
  },
  {
   "cell_type": "markdown",
   "metadata": {},
   "source": [
    "# Dropout to the Dense NN Layer"
   ]
  },
  {
   "cell_type": "code",
   "execution_count": 0,
   "metadata": {
    "colab": {},
    "colab_type": "code",
    "id": "Tpk3k3acpY0d"
   },
   "outputs": [],
   "source": [
    "hold_prob = tf.placeholder(tf.float32)\n",
    "full_one_dropout = tf.nn.dropout(full_layer_one, keep_prob=hold_prob)"
   ]
  },
  {
   "cell_type": "code",
   "execution_count": 0,
   "metadata": {
    "colab": {},
    "colab_type": "code",
    "id": "NmwUaQu2pYyk"
   },
   "outputs": [],
   "source": [
    "y_pred = normal_full_layer(full_one_dropout, 10)"
   ]
  },
  {
   "cell_type": "markdown",
   "metadata": {},
   "source": [
    "# Loss Function"
   ]
  },
  {
   "cell_type": "code",
   "execution_count": 21,
   "metadata": {
    "colab": {
     "base_uri": "https://localhost:8080/",
     "height": 173
    },
    "colab_type": "code",
    "id": "hjBpg5rupYt7",
    "outputId": "662c5ead-cfdf-47a0-f711-7bb131d6f710"
   },
   "outputs": [
    {
     "name": "stdout",
     "output_type": "stream",
     "text": [
      "WARNING:tensorflow:From <ipython-input-21-a6582372d089>:1: softmax_cross_entropy_with_logits (from tensorflow.python.ops.nn_ops) is deprecated and will be removed in a future version.\n",
      "Instructions for updating:\n",
      "\n",
      "Future major versions of TensorFlow will allow gradients to flow\n",
      "into the labels input on backprop by default.\n",
      "\n",
      "See `tf.nn.softmax_cross_entropy_with_logits_v2`.\n",
      "\n"
     ]
    }
   ],
   "source": [
    "cross_entropy = tf.reduce_mean(tf.nn.softmax_cross_entropy_with_logits(labels = y_true, logits = y_pred))"
   ]
  },
  {
   "cell_type": "markdown",
   "metadata": {},
   "source": [
    "# Optimizer "
   ]
  },
  {
   "cell_type": "code",
   "execution_count": 0,
   "metadata": {
    "colab": {},
    "colab_type": "code",
    "id": "xk626Mn6rcnY"
   },
   "outputs": [],
   "source": [
    "optimizer = tf.train.AdamOptimizer(learning_rate = 0.0001)\n",
    "train = optimizer.minimize(cross_entropy)"
   ]
  },
  {
   "cell_type": "markdown",
   "metadata": {},
   "source": [
    "# Initializing Global Variables"
   ]
  },
  {
   "cell_type": "code",
   "execution_count": 0,
   "metadata": {
    "colab": {},
    "colab_type": "code",
    "id": "ea6ln6tlrcjw"
   },
   "outputs": [],
   "source": [
    "init = tf.global_variables_initializer()"
   ]
  },
  {
   "cell_type": "code",
   "execution_count": 0,
   "metadata": {
    "colab": {},
    "colab_type": "code",
    "id": "LHZIeqxXrch8"
   },
   "outputs": [],
   "source": [
    "import time"
   ]
  },
  {
   "cell_type": "markdown",
   "metadata": {},
   "source": [
    "# Session for Training"
   ]
  },
  {
   "cell_type": "code",
   "execution_count": 26,
   "metadata": {
    "colab": {
     "base_uri": "https://localhost:8080/",
     "height": 4301
    },
    "colab_type": "code",
    "id": "R9ac3M6Drcey",
    "outputId": "926c294f-3fa8-4a85-d40c-5b6827320fc5"
   },
   "outputs": [
    {
     "name": "stdout",
     "output_type": "stream",
     "text": [
      "Currently on step 0\n",
      "Accuracy is: \n",
      "0.1069\n",
      "\n",
      "\n",
      "Currently on step 100\n",
      "Accuracy is: \n",
      "0.8456\n",
      "\n",
      "\n",
      "Currently on step 200\n",
      "Accuracy is: \n",
      "0.9041\n",
      "\n",
      "\n",
      "Currently on step 300\n",
      "Accuracy is: \n",
      "0.9291\n",
      "\n",
      "\n",
      "Currently on step 400\n",
      "Accuracy is: \n",
      "0.9381\n",
      "\n",
      "\n",
      "Currently on step 500\n",
      "Accuracy is: \n",
      "0.9465\n",
      "\n",
      "\n",
      "Currently on step 600\n",
      "Accuracy is: \n",
      "0.9527\n",
      "\n",
      "\n",
      "Currently on step 700\n",
      "Accuracy is: \n",
      "0.9554\n",
      "\n",
      "\n",
      "Currently on step 800\n",
      "Accuracy is: \n",
      "0.9581\n",
      "\n",
      "\n",
      "Currently on step 900\n",
      "Accuracy is: \n",
      "0.963\n",
      "\n",
      "\n",
      "Currently on step 1000\n",
      "Accuracy is: \n",
      "0.9645\n",
      "\n",
      "\n",
      "Currently on step 1100\n",
      "Accuracy is: \n",
      "0.9669\n",
      "\n",
      "\n",
      "Currently on step 1200\n",
      "Accuracy is: \n",
      "0.9684\n",
      "\n",
      "\n",
      "Currently on step 1300\n",
      "Accuracy is: \n",
      "0.9665\n",
      "\n",
      "\n",
      "Currently on step 1400\n",
      "Accuracy is: \n",
      "0.9706\n",
      "\n",
      "\n",
      "Currently on step 1500\n",
      "Accuracy is: \n",
      "0.9727\n",
      "\n",
      "\n",
      "Currently on step 1600\n",
      "Accuracy is: \n",
      "0.9728\n",
      "\n",
      "\n",
      "Currently on step 1700\n",
      "Accuracy is: \n",
      "0.9756\n",
      "\n",
      "\n",
      "Currently on step 1800\n",
      "Accuracy is: \n",
      "0.9747\n",
      "\n",
      "\n",
      "Currently on step 1900\n",
      "Accuracy is: \n",
      "0.9739\n",
      "\n",
      "\n",
      "Currently on step 2000\n",
      "Accuracy is: \n",
      "0.9755\n",
      "\n",
      "\n",
      "Currently on step 2100\n",
      "Accuracy is: \n",
      "0.9762\n",
      "\n",
      "\n",
      "Currently on step 2200\n",
      "Accuracy is: \n",
      "0.9756\n",
      "\n",
      "\n",
      "Currently on step 2300\n",
      "Accuracy is: \n",
      "0.9773\n",
      "\n",
      "\n",
      "Currently on step 2400\n",
      "Accuracy is: \n",
      "0.9807\n",
      "\n",
      "\n",
      "Currently on step 2500\n",
      "Accuracy is: \n",
      "0.9798\n",
      "\n",
      "\n",
      "Currently on step 2600\n",
      "Accuracy is: \n",
      "0.9823\n",
      "\n",
      "\n",
      "Currently on step 2700\n",
      "Accuracy is: \n",
      "0.982\n",
      "\n",
      "\n",
      "Currently on step 2800\n",
      "Accuracy is: \n",
      "0.9803\n",
      "\n",
      "\n",
      "Currently on step 2900\n",
      "Accuracy is: \n",
      "0.9805\n",
      "\n",
      "\n",
      "Currently on step 3000\n",
      "Accuracy is: \n",
      "0.9812\n",
      "\n",
      "\n",
      "Currently on step 3100\n",
      "Accuracy is: \n",
      "0.9825\n",
      "\n",
      "\n",
      "Currently on step 3200\n",
      "Accuracy is: \n",
      "0.983\n",
      "\n",
      "\n",
      "Currently on step 3300\n",
      "Accuracy is: \n",
      "0.983\n",
      "\n",
      "\n",
      "Currently on step 3400\n",
      "Accuracy is: \n",
      "0.9824\n",
      "\n",
      "\n",
      "Currently on step 3500\n",
      "Accuracy is: \n",
      "0.9851\n",
      "\n",
      "\n",
      "Currently on step 3600\n",
      "Accuracy is: \n",
      "0.9842\n",
      "\n",
      "\n",
      "Currently on step 3700\n",
      "Accuracy is: \n",
      "0.985\n",
      "\n",
      "\n",
      "Currently on step 3800\n",
      "Accuracy is: \n",
      "0.9853\n",
      "\n",
      "\n",
      "Currently on step 3900\n",
      "Accuracy is: \n",
      "0.9848\n",
      "\n",
      "\n",
      "Currently on step 4000\n",
      "Accuracy is: \n",
      "0.9851\n",
      "\n",
      "\n",
      "Currently on step 4100\n",
      "Accuracy is: \n",
      "0.9831\n",
      "\n",
      "\n",
      "Currently on step 4200\n",
      "Accuracy is: \n",
      "0.9839\n",
      "\n",
      "\n",
      "Currently on step 4300\n",
      "Accuracy is: \n",
      "0.9858\n",
      "\n",
      "\n",
      "Currently on step 4400\n",
      "Accuracy is: \n",
      "0.9849\n",
      "\n",
      "\n",
      "Currently on step 4500\n",
      "Accuracy is: \n",
      "0.9857\n",
      "\n",
      "\n",
      "Currently on step 4600\n",
      "Accuracy is: \n",
      "0.9854\n",
      "\n",
      "\n",
      "Currently on step 4700\n",
      "Accuracy is: \n",
      "0.987\n",
      "\n",
      "\n",
      "Currently on step 4800\n",
      "Accuracy is: \n",
      "0.9869\n",
      "\n",
      "\n",
      "Currently on step 4900\n",
      "Accuracy is: \n",
      "0.986\n",
      "\n",
      "\n",
      "CPU times: user 1h 48min 48s, sys: 14min 28s, total: 2h 3min 17s\n",
      "Wall time: 1h 56min 48s\n"
     ]
    }
   ],
   "source": [
    "%%time\n",
    "x_graph = []\n",
    "steps = 5000\n",
    "with tf.Session() as sess:\n",
    "    sess.run(init)\n",
    "    for i in range(steps):\n",
    "        batch_x, batch_y = mnist.train.next_batch(50)\n",
    "        sess.run(train, feed_dict={x:batch_x, y_true: batch_y, hold_prob:0.5})\n",
    "        acc = tf.reduce_mean(tf.cast(tf.equal(tf.argmax(y_pred, 1), tf.argmax(y_true, 1)), tf.float32))\n",
    "        x_graph.append(sess.run(acc, feed_dict={x:mnist.test.images, y_true:mnist.test.labels, hold_prob:1.0}))\n",
    "        if i%100 == 0:\n",
    "            print('Currently on step {}'.format(i))\n",
    "            print('Accuracy is: ')\n",
    "            print(sess.run(acc, feed_dict={x:mnist.test.images, y_true:mnist.test.labels, hold_prob:1.0}))\n",
    "            print('\\n')"
   ]
  },
  {
   "cell_type": "code",
   "execution_count": 27,
   "metadata": {
    "colab": {
     "base_uri": "https://localhost:8080/",
     "height": 34
    },
    "colab_type": "code",
    "id": "EieSTsGsvAWM",
    "outputId": "c44df549-a16c-476f-9e63-97d23cad8fdd"
   },
   "outputs": [
    {
     "name": "stdout",
     "output_type": "stream",
     "text": [
      "5000\n"
     ]
    }
   ],
   "source": [
    "print(len(x_graph))"
   ]
  },
  {
   "cell_type": "code",
   "execution_count": 0,
   "metadata": {
    "colab": {},
    "colab_type": "code",
    "id": "cMX-KuQXvJnz"
   },
   "outputs": [],
   "source": [
    "import matplotlib.pyplot as plt\n",
    "%matplotlib inline"
   ]
  },
  {
   "cell_type": "code",
   "execution_count": 32,
   "metadata": {
    "colab": {
     "base_uri": "https://localhost:8080/",
     "height": 279
    },
    "colab_type": "code",
    "id": "ysaomHUnvQPS",
    "outputId": "45e294f9-309f-42ee-df0a-44162344aa54"
   },
   "outputs": [
    {
     "data": {
      "image/png": "[encoded data removed]",
      "text/plain": [
       "<matplotlib.figure.Figure at 0x7eff70f2d438>"
      ]
     },
     "metadata": {
      "tags": []
     },
     "output_type": "display_data"
    }
   ],
   "source": [
    "plt.plot(x_graph)\n",
    "plt.ylabel('Accuracy')\n",
    "plt.xlabel('Training Steps')\n",
    "plt.show(x_graph)"
   ]
  },
  {
   "cell_type": "code",
   "execution_count": 0,
   "metadata": {
    "colab": {},
    "colab_type": "code",
    "id": "YNHfwzIugqQS"
   },
   "outputs": [],
   "source": []
  }
 ],
 "metadata": {
  "accelerator": "GPU",
  "colab": {
   "collapsed_sections": [],
   "name": "Convolution Neural Nets",
   "provenance": [],
   "version": "0.3.2"
  },
  "kernelspec": {
   "display_name": "Python 3",
   "language": "python",
   "name": "python3"
  },
  "language_info": {
   "codemirror_mode": {
    "name": "ipython",
    "version": 3
   },
   "file_extension": ".py",
   "mimetype": "text/x-python",
   "name": "python",
   "nbconvert_exporter": "python",
   "pygments_lexer": "ipython3",
   "version": "3.6.5"
  }
 },
 "nbformat": 4,
 "nbformat_minor": 1
}
