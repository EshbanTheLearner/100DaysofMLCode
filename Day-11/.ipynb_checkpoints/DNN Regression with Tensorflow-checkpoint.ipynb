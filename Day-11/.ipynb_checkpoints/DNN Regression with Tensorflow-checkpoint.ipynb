{
 "cells": [
  {
   "cell_type": "markdown",
   "metadata": {},
   "source": [
    "# Importing Pandas for Data Manipulation"
   ]
  },
  {
   "cell_type": "code",
   "execution_count": 1,
   "metadata": {},
   "outputs": [],
   "source": [
    "import pandas as pd"
   ]
  },
  {
   "cell_type": "markdown",
   "metadata": {},
   "source": [
    "# Loading our Dataset"
   ]
  },
  {
   "cell_type": "code",
   "execution_count": 2,
   "metadata": {},
   "outputs": [],
   "source": [
    "dataset = pd.read_csv('cal_housing_clean.csv')"
   ]
  },
  {
   "cell_type": "code",
   "execution_count": 3,
   "metadata": {},
   "outputs": [
    {
     "data": {
      "text/html": [
       "<div>\n",
       "<style scoped>\n",
       "    .dataframe tbody tr th:only-of-type {\n",
       "        vertical-align: middle;\n",
       "    }\n",
       "\n",
       "    .dataframe tbody tr th {\n",
       "        vertical-align: top;\n",
       "    }\n",
       "\n",
       "    .dataframe thead th {\n",
       "        text-align: right;\n",
       "    }\n",
       "</style>\n",
       "<table border=\"1\" class=\"dataframe\">\n",
       "  <thead>\n",
       "    <tr style=\"text-align: right;\">\n",
       "      <th></th>\n",
       "      <th>housingMedianAge</th>\n",
       "      <th>totalRooms</th>\n",
       "      <th>totalBedrooms</th>\n",
       "      <th>population</th>\n",
       "      <th>households</th>\n",
       "      <th>medianIncome</th>\n",
       "      <th>medianHouseValue</th>\n",
       "    </tr>\n",
       "  </thead>\n",
       "  <tbody>\n",
       "    <tr>\n",
       "      <th>0</th>\n",
       "      <td>41.0</td>\n",
       "      <td>880.0</td>\n",
       "      <td>129.0</td>\n",
       "      <td>322.0</td>\n",
       "      <td>126.0</td>\n",
       "      <td>8.3252</td>\n",
       "      <td>452600.0</td>\n",
       "    </tr>\n",
       "    <tr>\n",
       "      <th>1</th>\n",
       "      <td>21.0</td>\n",
       "      <td>7099.0</td>\n",
       "      <td>1106.0</td>\n",
       "      <td>2401.0</td>\n",
       "      <td>1138.0</td>\n",
       "      <td>8.3014</td>\n",
       "      <td>358500.0</td>\n",
       "    </tr>\n",
       "    <tr>\n",
       "      <th>2</th>\n",
       "      <td>52.0</td>\n",
       "      <td>1467.0</td>\n",
       "      <td>190.0</td>\n",
       "      <td>496.0</td>\n",
       "      <td>177.0</td>\n",
       "      <td>7.2574</td>\n",
       "      <td>352100.0</td>\n",
       "    </tr>\n",
       "    <tr>\n",
       "      <th>3</th>\n",
       "      <td>52.0</td>\n",
       "      <td>1274.0</td>\n",
       "      <td>235.0</td>\n",
       "      <td>558.0</td>\n",
       "      <td>219.0</td>\n",
       "      <td>5.6431</td>\n",
       "      <td>341300.0</td>\n",
       "    </tr>\n",
       "    <tr>\n",
       "      <th>4</th>\n",
       "      <td>52.0</td>\n",
       "      <td>1627.0</td>\n",
       "      <td>280.0</td>\n",
       "      <td>565.0</td>\n",
       "      <td>259.0</td>\n",
       "      <td>3.8462</td>\n",
       "      <td>342200.0</td>\n",
       "    </tr>\n",
       "  </tbody>\n",
       "</table>\n",
       "</div>"
      ],
      "text/plain": [
       "   housingMedianAge  totalRooms  totalBedrooms  population  households  \\\n",
       "0              41.0       880.0          129.0       322.0       126.0   \n",
       "1              21.0      7099.0         1106.0      2401.0      1138.0   \n",
       "2              52.0      1467.0          190.0       496.0       177.0   \n",
       "3              52.0      1274.0          235.0       558.0       219.0   \n",
       "4              52.0      1627.0          280.0       565.0       259.0   \n",
       "\n",
       "   medianIncome  medianHouseValue  \n",
       "0        8.3252          452600.0  \n",
       "1        8.3014          358500.0  \n",
       "2        7.2574          352100.0  \n",
       "3        5.6431          341300.0  \n",
       "4        3.8462          342200.0  "
      ]
     },
     "execution_count": 3,
     "metadata": {},
     "output_type": "execute_result"
    }
   ],
   "source": [
    "dataset.head()"
   ]
  },
  {
   "cell_type": "markdown",
   "metadata": {},
   "source": [
    "# Statistical Atrributes of our data"
   ]
  },
  {
   "cell_type": "code",
   "execution_count": 4,
   "metadata": {},
   "outputs": [
    {
     "data": {
      "text/html": [
       "<div>\n",
       "<style scoped>\n",
       "    .dataframe tbody tr th:only-of-type {\n",
       "        vertical-align: middle;\n",
       "    }\n",
       "\n",
       "    .dataframe tbody tr th {\n",
       "        vertical-align: top;\n",
       "    }\n",
       "\n",
       "    .dataframe thead th {\n",
       "        text-align: right;\n",
       "    }\n",
       "</style>\n",
       "<table border=\"1\" class=\"dataframe\">\n",
       "  <thead>\n",
       "    <tr style=\"text-align: right;\">\n",
       "      <th></th>\n",
       "      <th>count</th>\n",
       "      <th>mean</th>\n",
       "      <th>std</th>\n",
       "      <th>min</th>\n",
       "      <th>25%</th>\n",
       "      <th>50%</th>\n",
       "      <th>75%</th>\n",
       "      <th>max</th>\n",
       "    </tr>\n",
       "  </thead>\n",
       "  <tbody>\n",
       "    <tr>\n",
       "      <th>housingMedianAge</th>\n",
       "      <td>20640.0</td>\n",
       "      <td>28.639486</td>\n",
       "      <td>12.585558</td>\n",
       "      <td>1.0000</td>\n",
       "      <td>18.0000</td>\n",
       "      <td>29.0000</td>\n",
       "      <td>37.00000</td>\n",
       "      <td>52.0000</td>\n",
       "    </tr>\n",
       "    <tr>\n",
       "      <th>totalRooms</th>\n",
       "      <td>20640.0</td>\n",
       "      <td>2635.763081</td>\n",
       "      <td>2181.615252</td>\n",
       "      <td>2.0000</td>\n",
       "      <td>1447.7500</td>\n",
       "      <td>2127.0000</td>\n",
       "      <td>3148.00000</td>\n",
       "      <td>39320.0000</td>\n",
       "    </tr>\n",
       "    <tr>\n",
       "      <th>totalBedrooms</th>\n",
       "      <td>20640.0</td>\n",
       "      <td>537.898014</td>\n",
       "      <td>421.247906</td>\n",
       "      <td>1.0000</td>\n",
       "      <td>295.0000</td>\n",
       "      <td>435.0000</td>\n",
       "      <td>647.00000</td>\n",
       "      <td>6445.0000</td>\n",
       "    </tr>\n",
       "    <tr>\n",
       "      <th>population</th>\n",
       "      <td>20640.0</td>\n",
       "      <td>1425.476744</td>\n",
       "      <td>1132.462122</td>\n",
       "      <td>3.0000</td>\n",
       "      <td>787.0000</td>\n",
       "      <td>1166.0000</td>\n",
       "      <td>1725.00000</td>\n",
       "      <td>35682.0000</td>\n",
       "    </tr>\n",
       "    <tr>\n",
       "      <th>households</th>\n",
       "      <td>20640.0</td>\n",
       "      <td>499.539680</td>\n",
       "      <td>382.329753</td>\n",
       "      <td>1.0000</td>\n",
       "      <td>280.0000</td>\n",
       "      <td>409.0000</td>\n",
       "      <td>605.00000</td>\n",
       "      <td>6082.0000</td>\n",
       "    </tr>\n",
       "    <tr>\n",
       "      <th>medianIncome</th>\n",
       "      <td>20640.0</td>\n",
       "      <td>3.870671</td>\n",
       "      <td>1.899822</td>\n",
       "      <td>0.4999</td>\n",
       "      <td>2.5634</td>\n",
       "      <td>3.5348</td>\n",
       "      <td>4.74325</td>\n",
       "      <td>15.0001</td>\n",
       "    </tr>\n",
       "    <tr>\n",
       "      <th>medianHouseValue</th>\n",
       "      <td>20640.0</td>\n",
       "      <td>206855.816909</td>\n",
       "      <td>115395.615874</td>\n",
       "      <td>14999.0000</td>\n",
       "      <td>119600.0000</td>\n",
       "      <td>179700.0000</td>\n",
       "      <td>264725.00000</td>\n",
       "      <td>500001.0000</td>\n",
       "    </tr>\n",
       "  </tbody>\n",
       "</table>\n",
       "</div>"
      ],
      "text/plain": [
       "                    count           mean            std         min  \\\n",
       "housingMedianAge  20640.0      28.639486      12.585558      1.0000   \n",
       "totalRooms        20640.0    2635.763081    2181.615252      2.0000   \n",
       "totalBedrooms     20640.0     537.898014     421.247906      1.0000   \n",
       "population        20640.0    1425.476744    1132.462122      3.0000   \n",
       "households        20640.0     499.539680     382.329753      1.0000   \n",
       "medianIncome      20640.0       3.870671       1.899822      0.4999   \n",
       "medianHouseValue  20640.0  206855.816909  115395.615874  14999.0000   \n",
       "\n",
       "                          25%          50%           75%          max  \n",
       "housingMedianAge      18.0000      29.0000      37.00000      52.0000  \n",
       "totalRooms          1447.7500    2127.0000    3148.00000   39320.0000  \n",
       "totalBedrooms        295.0000     435.0000     647.00000    6445.0000  \n",
       "population           787.0000    1166.0000    1725.00000   35682.0000  \n",
       "households           280.0000     409.0000     605.00000    6082.0000  \n",
       "medianIncome           2.5634       3.5348       4.74325      15.0001  \n",
       "medianHouseValue  119600.0000  179700.0000  264725.00000  500001.0000  "
      ]
     },
     "execution_count": 4,
     "metadata": {},
     "output_type": "execute_result"
    }
   ],
   "source": [
    "dataset.describe().transpose()"
   ]
  },
  {
   "cell_type": "markdown",
   "metadata": {},
   "source": [
    "# Input Data"
   ]
  },
  {
   "cell_type": "code",
   "execution_count": 5,
   "metadata": {},
   "outputs": [],
   "source": [
    "X = dataset.drop(['medianHouseValue'], axis=1)"
   ]
  },
  {
   "cell_type": "markdown",
   "metadata": {},
   "source": [
    "# Output Label"
   ]
  },
  {
   "cell_type": "code",
   "execution_count": 6,
   "metadata": {},
   "outputs": [],
   "source": [
    "y = dataset['medianHouseValue']"
   ]
  },
  {
   "cell_type": "markdown",
   "metadata": {},
   "source": [
    "# Performing the Train Test Split"
   ]
  },
  {
   "cell_type": "code",
   "execution_count": 7,
   "metadata": {},
   "outputs": [],
   "source": [
    "from sklearn.model_selection import train_test_split"
   ]
  },
  {
   "cell_type": "code",
   "execution_count": 8,
   "metadata": {},
   "outputs": [],
   "source": [
    "X_train, X_test, y_train, y_test = train_test_split(X, y, test_size=0.3, random_state=101)"
   ]
  },
  {
   "cell_type": "markdown",
   "metadata": {},
   "source": [
    "# Scaling the Feature Data"
   ]
  },
  {
   "cell_type": "code",
   "execution_count": 9,
   "metadata": {},
   "outputs": [],
   "source": [
    "from sklearn.preprocessing import MinMaxScaler"
   ]
  },
  {
   "cell_type": "code",
   "execution_count": 10,
   "metadata": {},
   "outputs": [],
   "source": [
    "scaler = MinMaxScaler()"
   ]
  },
  {
   "cell_type": "code",
   "execution_count": 11,
   "metadata": {},
   "outputs": [
    {
     "data": {
      "text/plain": [
       "MinMaxScaler(copy=True, feature_range=(0, 1))"
      ]
     },
     "execution_count": 11,
     "metadata": {},
     "output_type": "execute_result"
    }
   ],
   "source": [
    "scaler.fit(X_train)"
   ]
  },
  {
   "cell_type": "code",
   "execution_count": 12,
   "metadata": {},
   "outputs": [],
   "source": [
    "X_train = pd.DataFrame(data=scaler.transform(X_train), columns=X_train.columns, index=X_train.index)"
   ]
  },
  {
   "cell_type": "code",
   "execution_count": 13,
   "metadata": {},
   "outputs": [],
   "source": [
    "X_test = pd.DataFrame(data=scaler.transform(X_test), columns=X_test.columns, index=X_test.index)"
   ]
  },
  {
   "cell_type": "markdown",
   "metadata": {},
   "source": [
    "# Creating Feature Columns"
   ]
  },
  {
   "cell_type": "code",
   "execution_count": 14,
   "metadata": {},
   "outputs": [
    {
     "data": {
      "text/plain": [
       "Index(['housingMedianAge', 'totalRooms', 'totalBedrooms', 'population',\n",
       "       'households', 'medianIncome', 'medianHouseValue'],\n",
       "      dtype='object')"
      ]
     },
     "execution_count": 14,
     "metadata": {},
     "output_type": "execute_result"
    }
   ],
   "source": [
    "dataset.columns"
   ]
  },
  {
   "cell_type": "markdown",
   "metadata": {},
   "source": [
    "# Importing Tensorflow"
   ]
  },
  {
   "cell_type": "code",
   "execution_count": 15,
   "metadata": {},
   "outputs": [
    {
     "name": "stderr",
     "output_type": "stream",
     "text": [
      "C:\\Users\\Eshban\\Anaconda3\\envs\\100daysofmlcode\\lib\\site-packages\\h5py\\__init__.py:36: FutureWarning: Conversion of the second argument of issubdtype from `float` to `np.floating` is deprecated. In future, it will be treated as `np.float64 == np.dtype(float).type`.\n",
      "  from ._conv import register_converters as _register_converters\n"
     ]
    }
   ],
   "source": [
    "import tensorflow as tf"
   ]
  },
  {
   "cell_type": "markdown",
   "metadata": {},
   "source": [
    "# Creating necessary feature columns"
   ]
  },
  {
   "cell_type": "code",
   "execution_count": 16,
   "metadata": {},
   "outputs": [],
   "source": [
    "age = tf.feature_column.numeric_column('housingMedianAge')\n",
    "rooms = tf.feature_column.numeric_column('totalRooms')\n",
    "bedrooms = tf.feature_column.numeric_column('totalBedrooms')\n",
    "pop = tf.feature_column.numeric_column('population')\n",
    "households = tf.feature_column.numeric_column('households')\n",
    "income = tf.feature_column.numeric_column('medianIncome')"
   ]
  },
  {
   "cell_type": "code",
   "execution_count": 17,
   "metadata": {},
   "outputs": [],
   "source": [
    "feat_cols = [age, rooms, bedrooms, pop, households, income]"
   ]
  },
  {
   "cell_type": "markdown",
   "metadata": {},
   "source": [
    "# Input Function"
   ]
  },
  {
   "cell_type": "code",
   "execution_count": 18,
   "metadata": {},
   "outputs": [],
   "source": [
    "input_function = tf.estimator.inputs.pandas_input_fn(x=X_train, y=y_train, batch_size=10, num_epochs=1000, shuffle=True)"
   ]
  },
  {
   "cell_type": "markdown",
   "metadata": {},
   "source": [
    "# Building the DNN Regressor"
   ]
  },
  {
   "cell_type": "code",
   "execution_count": 19,
   "metadata": {},
   "outputs": [
    {
     "name": "stdout",
     "output_type": "stream",
     "text": [
      "INFO:tensorflow:Using default config.\n",
      "WARNING:tensorflow:Using temporary folder as model directory: C:\\Users\\Eshban\\AppData\\Local\\Temp\\tmpzgw18iql\n",
      "INFO:tensorflow:Using config: {'_model_dir': 'C:\\\\Users\\\\Eshban\\\\AppData\\\\Local\\\\Temp\\\\tmpzgw18iql', '_tf_random_seed': None, '_save_summary_steps': 100, '_save_checkpoints_steps': None, '_save_checkpoints_secs': 600, '_session_config': None, '_keep_checkpoint_max': 5, '_keep_checkpoint_every_n_hours': 10000, '_log_step_count_steps': 100, '_train_distribute': None, '_device_fn': None, '_service': None, '_cluster_spec': <tensorflow.python.training.server_lib.ClusterSpec object at 0x00000260DAF0F4A8>, '_task_type': 'worker', '_task_id': 0, '_global_id_in_cluster': 0, '_master': '', '_evaluation_master': '', '_is_chief': True, '_num_ps_replicas': 0, '_num_worker_replicas': 1}\n"
     ]
    }
   ],
   "source": [
    "regressor = tf.estimator.DNNRegressor(hidden_units=[30,20,10], feature_columns=feat_cols)"
   ]
  },
  {
   "cell_type": "markdown",
   "metadata": {},
   "source": [
    "# Training our DNN Regressor"
   ]
  },
  {
   "cell_type": "code",
   "execution_count": 20,
   "metadata": {},
   "outputs": [
    {
     "name": "stdout",
     "output_type": "stream",
     "text": [
      "INFO:tensorflow:Calling model_fn.\n",
      "INFO:tensorflow:Done calling model_fn.\n",
      "INFO:tensorflow:Create CheckpointSaverHook.\n",
      "INFO:tensorflow:Graph was finalized.\n",
      "INFO:tensorflow:Running local_init_op.\n",
      "INFO:tensorflow:Done running local_init_op.\n",
      "INFO:tensorflow:Saving checkpoints for 0 into C:\\Users\\Eshban\\AppData\\Local\\Temp\\tmpzgw18iql\\model.ckpt.\n",
      "INFO:tensorflow:loss = 716924060000.0, step = 1\n",
      "INFO:tensorflow:global_step/sec: 246.941\n",
      "INFO:tensorflow:loss = 425810800000.0, step = 101 (0.412 sec)\n",
      "INFO:tensorflow:global_step/sec: 377.637\n",
      "INFO:tensorflow:loss = 486457900000.0, step = 201 (0.259 sec)\n",
      "INFO:tensorflow:global_step/sec: 388.634\n",
      "INFO:tensorflow:loss = 429614700000.0, step = 301 (0.262 sec)\n",
      "INFO:tensorflow:global_step/sec: 368.63\n",
      "INFO:tensorflow:loss = 57351274000.0, step = 401 (0.273 sec)\n",
      "INFO:tensorflow:global_step/sec: 374.13\n",
      "INFO:tensorflow:loss = 69178204000.0, step = 501 (0.264 sec)\n",
      "INFO:tensorflow:global_step/sec: 409.255\n",
      "INFO:tensorflow:loss = 106156360000.0, step = 601 (0.249 sec)\n",
      "INFO:tensorflow:global_step/sec: 356.823\n",
      "INFO:tensorflow:loss = 135274725000.0, step = 701 (0.278 sec)\n",
      "INFO:tensorflow:global_step/sec: 384.486\n",
      "INFO:tensorflow:loss = 46768587000.0, step = 801 (0.261 sec)\n",
      "INFO:tensorflow:global_step/sec: 347.377\n",
      "INFO:tensorflow:loss = 38331550000.0, step = 901 (0.284 sec)\n",
      "INFO:tensorflow:global_step/sec: 397.886\n",
      "INFO:tensorflow:loss = 148707740000.0, step = 1001 (0.250 sec)\n",
      "INFO:tensorflow:global_step/sec: 376.946\n",
      "INFO:tensorflow:loss = 102134970000.0, step = 1101 (0.271 sec)\n",
      "INFO:tensorflow:global_step/sec: 376.942\n",
      "INFO:tensorflow:loss = 97971495000.0, step = 1201 (0.261 sec)\n",
      "INFO:tensorflow:global_step/sec: 369.991\n",
      "INFO:tensorflow:loss = 208153760000.0, step = 1301 (0.269 sec)\n",
      "INFO:tensorflow:global_step/sec: 358.157\n",
      "INFO:tensorflow:loss = 55292568000.0, step = 1401 (0.282 sec)\n",
      "INFO:tensorflow:global_step/sec: 391.735\n",
      "INFO:tensorflow:loss = 65671440000.0, step = 1501 (0.252 sec)\n",
      "INFO:tensorflow:global_step/sec: 362.393\n",
      "INFO:tensorflow:loss = 58877510000.0, step = 1601 (0.274 sec)\n",
      "INFO:tensorflow:global_step/sec: 393.958\n",
      "INFO:tensorflow:loss = 32789471000.0, step = 1701 (0.260 sec)\n",
      "INFO:tensorflow:global_step/sec: 342.477\n",
      "INFO:tensorflow:loss = 193707620000.0, step = 1801 (0.289 sec)\n",
      "INFO:tensorflow:global_step/sec: 376.944\n",
      "INFO:tensorflow:loss = 25986292000.0, step = 1901 (0.263 sec)\n",
      "INFO:tensorflow:global_step/sec: 362.477\n",
      "INFO:tensorflow:loss = 72332640000.0, step = 2001 (0.277 sec)\n",
      "INFO:tensorflow:global_step/sec: 382.78\n",
      "INFO:tensorflow:loss = 104961540000.0, step = 2101 (0.259 sec)\n",
      "INFO:tensorflow:global_step/sec: 364.201\n",
      "INFO:tensorflow:loss = 240899180000.0, step = 2201 (0.283 sec)\n",
      "INFO:tensorflow:global_step/sec: 364.281\n",
      "INFO:tensorflow:loss = 64596165000.0, step = 2301 (0.272 sec)\n",
      "INFO:tensorflow:global_step/sec: 374.133\n",
      "INFO:tensorflow:loss = 186057400000.0, step = 2401 (0.262 sec)\n",
      "INFO:tensorflow:global_step/sec: 367.933\n",
      "INFO:tensorflow:loss = 52851204000.0, step = 2501 (0.278 sec)\n",
      "INFO:tensorflow:global_step/sec: 378.137\n",
      "INFO:tensorflow:loss = 185968210000.0, step = 2601 (0.258 sec)\n",
      "INFO:tensorflow:global_step/sec: 352.419\n",
      "INFO:tensorflow:loss = 123667866000.0, step = 2701 (0.287 sec)\n",
      "INFO:tensorflow:global_step/sec: 372.154\n",
      "INFO:tensorflow:loss = 133333110000.0, step = 2801 (0.266 sec)\n",
      "INFO:tensorflow:global_step/sec: 361.718\n",
      "INFO:tensorflow:loss = 53320008000.0, step = 2901 (0.278 sec)\n",
      "INFO:tensorflow:global_step/sec: 363.926\n",
      "INFO:tensorflow:loss = 51246203000.0, step = 3001 (0.272 sec)\n",
      "INFO:tensorflow:global_step/sec: 348.149\n",
      "INFO:tensorflow:loss = 60069530000.0, step = 3101 (0.290 sec)\n",
      "INFO:tensorflow:global_step/sec: 378.368\n",
      "INFO:tensorflow:loss = 183885820000.0, step = 3201 (0.266 sec)\n",
      "INFO:tensorflow:global_step/sec: 349.363\n",
      "INFO:tensorflow:loss = 121204780000.0, step = 3301 (0.283 sec)\n",
      "INFO:tensorflow:global_step/sec: 364.883\n",
      "INFO:tensorflow:loss = 88647700000.0, step = 3401 (0.283 sec)\n",
      "INFO:tensorflow:global_step/sec: 358.048\n",
      "INFO:tensorflow:loss = 112131105000.0, step = 3501 (0.275 sec)\n",
      "INFO:tensorflow:global_step/sec: 357.44\n",
      "INFO:tensorflow:loss = 187275600000.0, step = 3601 (0.280 sec)\n",
      "INFO:tensorflow:global_step/sec: 371.36\n",
      "INFO:tensorflow:loss = 131933060000.0, step = 3701 (0.269 sec)\n",
      "INFO:tensorflow:global_step/sec: 349.364\n",
      "INFO:tensorflow:loss = 60767523000.0, step = 3801 (0.286 sec)\n",
      "INFO:tensorflow:global_step/sec: 355.558\n",
      "INFO:tensorflow:loss = 32878778000.0, step = 3901 (0.276 sec)\n",
      "INFO:tensorflow:global_step/sec: 354.563\n",
      "INFO:tensorflow:loss = 53256184000.0, step = 4001 (0.283 sec)\n",
      "INFO:tensorflow:global_step/sec: 364.867\n",
      "INFO:tensorflow:loss = 53603955000.0, step = 4101 (0.273 sec)\n",
      "INFO:tensorflow:global_step/sec: 349.365\n",
      "INFO:tensorflow:loss = 60781367000.0, step = 4201 (0.287 sec)\n",
      "INFO:tensorflow:global_step/sec: 369.987\n",
      "INFO:tensorflow:loss = 83351010000.0, step = 4301 (0.272 sec)\n",
      "INFO:tensorflow:global_step/sec: 351.817\n",
      "INFO:tensorflow:loss = 85955985000.0, step = 4401 (0.282 sec)\n",
      "INFO:tensorflow:global_step/sec: 358.231\n",
      "INFO:tensorflow:loss = 75416810000.0, step = 4501 (0.283 sec)\n",
      "INFO:tensorflow:global_step/sec: 365.315\n",
      "INFO:tensorflow:loss = 139685500000.0, step = 4601 (0.272 sec)\n",
      "INFO:tensorflow:global_step/sec: 344.562\n",
      "INFO:tensorflow:loss = 98301230000.0, step = 4701 (0.292 sec)\n",
      "INFO:tensorflow:global_step/sec: 364.607\n",
      "INFO:tensorflow:loss = 84423750000.0, step = 4801 (0.268 sec)\n",
      "INFO:tensorflow:global_step/sec: 368.63\n",
      "INFO:tensorflow:loss = 32133554000.0, step = 4901 (0.273 sec)\n",
      "INFO:tensorflow:global_step/sec: 367.936\n",
      "INFO:tensorflow:loss = 107210830000.0, step = 5001 (0.269 sec)\n",
      "INFO:tensorflow:global_step/sec: 363.868\n",
      "INFO:tensorflow:loss = 58885984000.0, step = 5101 (0.283 sec)\n",
      "INFO:tensorflow:global_step/sec: 366.587\n",
      "INFO:tensorflow:loss = 41627150000.0, step = 5201 (0.270 sec)\n",
      "INFO:tensorflow:global_step/sec: 358.098\n",
      "INFO:tensorflow:loss = 31497308000.0, step = 5301 (0.281 sec)\n",
      "INFO:tensorflow:global_step/sec: 351.815\n",
      "INFO:tensorflow:loss = 72413410000.0, step = 5401 (0.277 sec)\n",
      "INFO:tensorflow:global_step/sec: 355.558\n",
      "INFO:tensorflow:loss = 110743060000.0, step = 5501 (0.286 sec)\n",
      "INFO:tensorflow:global_step/sec: 359.38\n",
      "INFO:tensorflow:loss = 48741814000.0, step = 5601 (0.274 sec)\n",
      "INFO:tensorflow:global_step/sec: 377.358\n",
      "INFO:tensorflow:loss = 104023840000.0, step = 5701 (0.264 sec)\n",
      "INFO:tensorflow:global_step/sec: 350.55\n",
      "INFO:tensorflow:loss = 129151844000.0, step = 5801 (0.285 sec)\n",
      "INFO:tensorflow:global_step/sec: 354.302\n",
      "INFO:tensorflow:loss = 159092420000.0, step = 5901 (0.284 sec)\n",
      "INFO:tensorflow:global_step/sec: 372.741\n",
      "INFO:tensorflow:loss = 61749363000.0, step = 6001 (0.268 sec)\n",
      "INFO:tensorflow:global_step/sec: 366.592\n",
      "INFO:tensorflow:loss = 46642760000.0, step = 6101 (0.275 sec)\n",
      "INFO:tensorflow:global_step/sec: 344.514\n",
      "INFO:tensorflow:loss = 55090220000.0, step = 6201 (0.287 sec)\n",
      "INFO:tensorflow:global_step/sec: 350.968\n",
      "INFO:tensorflow:loss = 113772800000.0, step = 6301 (0.285 sec)\n",
      "INFO:tensorflow:global_step/sec: 394.075\n",
      "INFO:tensorflow:loss = 27736973000.0, step = 6401 (0.252 sec)\n",
      "INFO:tensorflow:global_step/sec: 351.244\n",
      "INFO:tensorflow:loss = 81632880000.0, step = 6501 (0.289 sec)\n",
      "INFO:tensorflow:global_step/sec: 356.823\n",
      "INFO:tensorflow:loss = 99714460000.0, step = 6601 (0.276 sec)\n",
      "INFO:tensorflow:global_step/sec: 349.36\n",
      "INFO:tensorflow:loss = 100114510000.0, step = 6701 (0.286 sec)\n",
      "INFO:tensorflow:global_step/sec: 358.659\n",
      "INFO:tensorflow:loss = 116764920000.0, step = 6801 (0.283 sec)\n",
      "INFO:tensorflow:global_step/sec: 344.379\n",
      "INFO:tensorflow:loss = 101374330000.0, step = 6901 (0.287 sec)\n",
      "INFO:tensorflow:global_step/sec: 376.216\n",
      "INFO:tensorflow:loss = 76970070000.0, step = 7001 (0.268 sec)\n",
      "INFO:tensorflow:global_step/sec: 359.382\n",
      "INFO:tensorflow:loss = 126447240000.0, step = 7101 (0.280 sec)\n",
      "INFO:tensorflow:global_step/sec: 358.097\n",
      "INFO:tensorflow:loss = 85303560000.0, step = 7201 (0.275 sec)\n",
      "INFO:tensorflow:global_step/sec: 354.914\n",
      "INFO:tensorflow:loss = 87853750000.0, step = 7301 (0.282 sec)\n",
      "INFO:tensorflow:global_step/sec: 344.562\n",
      "INFO:tensorflow:loss = 39659962000.0, step = 7401 (0.293 sec)\n",
      "INFO:tensorflow:global_step/sec: 348.18\n",
      "INFO:tensorflow:loss = 158689840000.0, step = 7501 (0.285 sec)\n",
      "INFO:tensorflow:global_step/sec: 364.567\n",
      "INFO:tensorflow:loss = 68841970000.0, step = 7601 (0.279 sec)\n"
     ]
    },
    {
     "name": "stdout",
     "output_type": "stream",
     "text": [
      "INFO:tensorflow:global_step/sec: 346.944\n",
      "INFO:tensorflow:loss = 94520460000.0, step = 7701 (0.286 sec)\n",
      "INFO:tensorflow:global_step/sec: 378.369\n",
      "INFO:tensorflow:loss = 30389426000.0, step = 7801 (0.264 sec)\n",
      "INFO:tensorflow:global_step/sec: 383.651\n",
      "INFO:tensorflow:loss = 107213310000.0, step = 7901 (0.262 sec)\n",
      "INFO:tensorflow:global_step/sec: 380.567\n",
      "INFO:tensorflow:loss = 53317550000.0, step = 8001 (0.265 sec)\n",
      "INFO:tensorflow:global_step/sec: 372.419\n",
      "INFO:tensorflow:loss = 134793980000.0, step = 8101 (0.262 sec)\n",
      "INFO:tensorflow:global_step/sec: 375.532\n",
      "INFO:tensorflow:loss = 90736574000.0, step = 8201 (0.266 sec)\n",
      "INFO:tensorflow:global_step/sec: 363.416\n",
      "INFO:tensorflow:loss = 55564333000.0, step = 8301 (0.280 sec)\n",
      "INFO:tensorflow:global_step/sec: 372.741\n",
      "INFO:tensorflow:loss = 45970070000.0, step = 8401 (0.264 sec)\n",
      "INFO:tensorflow:global_step/sec: 368.631\n",
      "INFO:tensorflow:loss = 83786105000.0, step = 8501 (0.271 sec)\n",
      "INFO:tensorflow:global_step/sec: 387.132\n",
      "INFO:tensorflow:loss = 120391040000.0, step = 8601 (0.259 sec)\n",
      "INFO:tensorflow:global_step/sec: 376.944\n",
      "INFO:tensorflow:loss = 74361980000.0, step = 8701 (0.265 sec)\n",
      "INFO:tensorflow:global_step/sec: 379.802\n",
      "INFO:tensorflow:loss = 84016970000.0, step = 8801 (0.262 sec)\n",
      "INFO:tensorflow:global_step/sec: 339.89\n",
      "INFO:tensorflow:loss = 21766087000.0, step = 8901 (0.295 sec)\n",
      "INFO:tensorflow:global_step/sec: 317.301\n",
      "INFO:tensorflow:loss = 32213297000.0, step = 9001 (0.321 sec)\n",
      "INFO:tensorflow:global_step/sec: 345.719\n",
      "INFO:tensorflow:loss = 45955187000.0, step = 9101 (0.282 sec)\n",
      "INFO:tensorflow:global_step/sec: 381.71\n",
      "INFO:tensorflow:loss = 67582353000.0, step = 9201 (0.263 sec)\n",
      "INFO:tensorflow:global_step/sec: 369.308\n",
      "INFO:tensorflow:loss = 95902106000.0, step = 9301 (0.272 sec)\n",
      "INFO:tensorflow:global_step/sec: 367.281\n",
      "INFO:tensorflow:loss = 97160250000.0, step = 9401 (0.268 sec)\n",
      "INFO:tensorflow:global_step/sec: 363.286\n",
      "INFO:tensorflow:loss = 34092680000.0, step = 9501 (0.280 sec)\n",
      "INFO:tensorflow:global_step/sec: 376.945\n",
      "INFO:tensorflow:loss = 271574990000.0, step = 9601 (0.262 sec)\n",
      "INFO:tensorflow:global_step/sec: 387.891\n",
      "INFO:tensorflow:loss = 28949131000.0, step = 9701 (0.259 sec)\n",
      "INFO:tensorflow:global_step/sec: 365.253\n",
      "INFO:tensorflow:loss = 100365640000.0, step = 9801 (0.274 sec)\n",
      "INFO:tensorflow:global_step/sec: 377.037\n",
      "INFO:tensorflow:loss = 131774120000.0, step = 9901 (0.271 sec)\n",
      "INFO:tensorflow:global_step/sec: 361.308\n",
      "INFO:tensorflow:loss = 59782020000.0, step = 10001 (0.268 sec)\n",
      "INFO:tensorflow:global_step/sec: 387.621\n",
      "INFO:tensorflow:loss = 11952052000.0, step = 10101 (0.262 sec)\n",
      "INFO:tensorflow:global_step/sec: 353.059\n",
      "INFO:tensorflow:loss = 49241130000.0, step = 10201 (0.279 sec)\n",
      "INFO:tensorflow:global_step/sec: 364.603\n",
      "INFO:tensorflow:loss = 73862545000.0, step = 10301 (0.275 sec)\n",
      "INFO:tensorflow:global_step/sec: 378.325\n",
      "INFO:tensorflow:loss = 197117660000.0, step = 10401 (0.267 sec)\n",
      "INFO:tensorflow:global_step/sec: 364.708\n",
      "INFO:tensorflow:loss = 65307644000.0, step = 10501 (0.270 sec)\n",
      "INFO:tensorflow:global_step/sec: 373.245\n",
      "INFO:tensorflow:loss = 43708056000.0, step = 10601 (0.272 sec)\n",
      "INFO:tensorflow:global_step/sec: 348.147\n",
      "INFO:tensorflow:loss = 30384265000.0, step = 10701 (0.283 sec)\n",
      "INFO:tensorflow:global_step/sec: 372.74\n",
      "INFO:tensorflow:loss = 100778860000.0, step = 10801 (0.270 sec)\n",
      "INFO:tensorflow:global_step/sec: 374.131\n",
      "INFO:tensorflow:loss = 86386360000.0, step = 10901 (0.265 sec)\n",
      "INFO:tensorflow:global_step/sec: 381.952\n",
      "INFO:tensorflow:loss = 56049664000.0, step = 11001 (0.265 sec)\n",
      "INFO:tensorflow:global_step/sec: 363.507\n",
      "INFO:tensorflow:loss = 90337660000.0, step = 11101 (0.271 sec)\n",
      "INFO:tensorflow:global_step/sec: 358.096\n",
      "INFO:tensorflow:loss = 27534696000.0, step = 11201 (0.288 sec)\n",
      "INFO:tensorflow:global_step/sec: 352.216\n",
      "INFO:tensorflow:loss = 53103870000.0, step = 11301 (0.276 sec)\n",
      "INFO:tensorflow:global_step/sec: 354.303\n",
      "INFO:tensorflow:loss = 155821950000.0, step = 11401 (0.284 sec)\n",
      "INFO:tensorflow:global_step/sec: 399.472\n",
      "INFO:tensorflow:loss = 117411430000.0, step = 11501 (0.251 sec)\n",
      "INFO:tensorflow:global_step/sec: 361.974\n",
      "INFO:tensorflow:loss = 137091900000.0, step = 11601 (0.274 sec)\n",
      "INFO:tensorflow:global_step/sec: 376.945\n",
      "INFO:tensorflow:loss = 146619890000.0, step = 11701 (0.265 sec)\n",
      "INFO:tensorflow:global_step/sec: 356.823\n",
      "INFO:tensorflow:loss = 73383380000.0, step = 11801 (0.280 sec)\n",
      "INFO:tensorflow:global_step/sec: 369.989\n",
      "INFO:tensorflow:loss = 68265755000.0, step = 11901 (0.274 sec)\n",
      "INFO:tensorflow:global_step/sec: 337.602\n",
      "INFO:tensorflow:loss = 104424170000.0, step = 12001 (0.294 sec)\n",
      "INFO:tensorflow:global_step/sec: 342.433\n",
      "INFO:tensorflow:loss = 49276780000.0, step = 12101 (0.295 sec)\n",
      "INFO:tensorflow:global_step/sec: 362.725\n",
      "INFO:tensorflow:loss = 79206064000.0, step = 12201 (0.272 sec)\n",
      "INFO:tensorflow:global_step/sec: 355.997\n",
      "INFO:tensorflow:loss = 107304270000.0, step = 12301 (0.285 sec)\n",
      "INFO:tensorflow:global_step/sec: 305.215\n",
      "INFO:tensorflow:loss = 22540740000.0, step = 12401 (0.325 sec)\n",
      "INFO:tensorflow:global_step/sec: 343.38\n",
      "INFO:tensorflow:loss = 35433850000.0, step = 12501 (0.288 sec)\n",
      "INFO:tensorflow:global_step/sec: 365.256\n",
      "INFO:tensorflow:loss = 38784733000.0, step = 12601 (0.281 sec)\n",
      "INFO:tensorflow:global_step/sec: 354.67\n",
      "INFO:tensorflow:loss = 75554540000.0, step = 12701 (0.277 sec)\n",
      "INFO:tensorflow:global_step/sec: 344.717\n",
      "INFO:tensorflow:loss = 55238450000.0, step = 12801 (0.290 sec)\n",
      "INFO:tensorflow:global_step/sec: 357.85\n",
      "INFO:tensorflow:loss = 182165600000.0, step = 12901 (0.279 sec)\n",
      "INFO:tensorflow:global_step/sec: 355.558\n",
      "INFO:tensorflow:loss = 180273660000.0, step = 13001 (0.285 sec)\n",
      "INFO:tensorflow:global_step/sec: 364.608\n",
      "INFO:tensorflow:loss = 96286966000.0, step = 13101 (0.273 sec)\n",
      "INFO:tensorflow:global_step/sec: 353.119\n",
      "INFO:tensorflow:loss = 36244600000.0, step = 13201 (0.279 sec)\n",
      "INFO:tensorflow:global_step/sec: 361.302\n",
      "INFO:tensorflow:loss = 175379280000.0, step = 13301 (0.278 sec)\n",
      "INFO:tensorflow:global_step/sec: 367.279\n",
      "INFO:tensorflow:loss = 20721902000.0, step = 13401 (0.272 sec)\n",
      "INFO:tensorflow:global_step/sec: 368.629\n",
      "INFO:tensorflow:loss = 110648910000.0, step = 13501 (0.270 sec)\n",
      "INFO:tensorflow:global_step/sec: 355.559\n",
      "INFO:tensorflow:loss = 22953046000.0, step = 13601 (0.281 sec)\n",
      "INFO:tensorflow:global_step/sec: 364.125\n",
      "INFO:tensorflow:loss = 63269536000.0, step = 13701 (0.274 sec)\n",
      "INFO:tensorflow:global_step/sec: 354.21\n",
      "INFO:tensorflow:loss = 40316015000.0, step = 13801 (0.286 sec)\n",
      "INFO:tensorflow:global_step/sec: 357.739\n",
      "INFO:tensorflow:loss = 75310080000.0, step = 13901 (0.276 sec)\n",
      "INFO:tensorflow:global_step/sec: 369.632\n",
      "INFO:tensorflow:loss = 36534980000.0, step = 14001 (0.278 sec)\n",
      "INFO:tensorflow:global_step/sec: 346.328\n",
      "INFO:tensorflow:loss = 37059023000.0, step = 14101 (0.288 sec)\n",
      "INFO:tensorflow:global_step/sec: 379.03\n",
      "INFO:tensorflow:loss = 98634730000.0, step = 14201 (0.258 sec)\n",
      "INFO:tensorflow:global_step/sec: 341.668\n",
      "INFO:tensorflow:loss = 18544753000.0, step = 14301 (0.294 sec)\n",
      "INFO:tensorflow:global_step/sec: 381.806\n",
      "INFO:tensorflow:loss = 42527605000.0, step = 14401 (0.262 sec)\n",
      "INFO:tensorflow:global_step/sec: 356.361\n",
      "INFO:tensorflow:loss = 55592140000.0, step = 14501 (0.281 sec)\n",
      "INFO:tensorflow:global_step/sec: 360.766\n",
      "INFO:tensorflow:loss = 29574812000.0, step = 14601 (0.282 sec)\n",
      "INFO:tensorflow:global_step/sec: 351.251\n",
      "INFO:tensorflow:loss = 75735120000.0, step = 14701 (0.278 sec)\n",
      "INFO:tensorflow:global_step/sec: 363.38\n",
      "INFO:tensorflow:loss = 118222420000.0, step = 14801 (0.276 sec)\n",
      "INFO:tensorflow:global_step/sec: 356.095\n",
      "INFO:tensorflow:loss = 48805212000.0, step = 14901 (0.281 sec)\n",
      "INFO:tensorflow:global_step/sec: 360.01\n",
      "INFO:tensorflow:loss = 37597840000.0, step = 15001 (0.284 sec)\n",
      "INFO:tensorflow:global_step/sec: 355.578\n",
      "INFO:tensorflow:loss = 110451590000.0, step = 15101 (0.275 sec)\n",
      "INFO:tensorflow:global_step/sec: 361.976\n",
      "INFO:tensorflow:loss = 145635310000.0, step = 15201 (0.282 sec)\n",
      "INFO:tensorflow:global_step/sec: 353.353\n",
      "INFO:tensorflow:loss = 62567703000.0, step = 15301 (0.280 sec)\n",
      "INFO:tensorflow:global_step/sec: 352.193\n",
      "INFO:tensorflow:loss = 42202243000.0, step = 15401 (0.284 sec)\n",
      "INFO:tensorflow:global_step/sec: 353.62\n",
      "INFO:tensorflow:loss = 102934200000.0, step = 15501 (0.284 sec)\n"
     ]
    },
    {
     "name": "stdout",
     "output_type": "stream",
     "text": [
      "INFO:tensorflow:global_step/sec: 375.192\n",
      "INFO:tensorflow:loss = 180723500000.0, step = 15601 (0.264 sec)\n",
      "INFO:tensorflow:global_step/sec: 348.738\n",
      "INFO:tensorflow:loss = 70781110000.0, step = 15701 (0.292 sec)\n",
      "INFO:tensorflow:global_step/sec: 369.757\n",
      "INFO:tensorflow:loss = 53733614000.0, step = 15801 (0.266 sec)\n",
      "INFO:tensorflow:global_step/sec: 344.37\n",
      "INFO:tensorflow:loss = 50312830000.0, step = 15901 (0.290 sec)\n",
      "INFO:tensorflow:global_step/sec: 375.367\n",
      "INFO:tensorflow:loss = 75813610000.0, step = 16001 (0.268 sec)\n",
      "INFO:tensorflow:global_step/sec: 388.89\n",
      "INFO:tensorflow:loss = 44300800000.0, step = 16101 (0.255 sec)\n",
      "INFO:tensorflow:global_step/sec: 385.644\n",
      "INFO:tensorflow:loss = 83238830000.0, step = 16201 (0.256 sec)\n",
      "INFO:tensorflow:global_step/sec: 358.099\n",
      "INFO:tensorflow:loss = 15597508000.0, step = 16301 (0.285 sec)\n",
      "INFO:tensorflow:global_step/sec: 372.025\n",
      "INFO:tensorflow:loss = 68884720000.0, step = 16401 (0.267 sec)\n",
      "INFO:tensorflow:global_step/sec: 373.872\n",
      "INFO:tensorflow:loss = 90947510000.0, step = 16501 (0.266 sec)\n",
      "INFO:tensorflow:global_step/sec: 352.249\n",
      "INFO:tensorflow:loss = 138003580000.0, step = 16601 (0.284 sec)\n",
      "INFO:tensorflow:global_step/sec: 383.407\n",
      "INFO:tensorflow:loss = 83267260000.0, step = 16701 (0.262 sec)\n",
      "INFO:tensorflow:global_step/sec: 376.217\n",
      "INFO:tensorflow:loss = 117979870000.0, step = 16801 (0.268 sec)\n",
      "INFO:tensorflow:global_step/sec: 372.741\n",
      "INFO:tensorflow:loss = 31936225000.0, step = 16901 (0.266 sec)\n",
      "INFO:tensorflow:global_step/sec: 360.011\n",
      "INFO:tensorflow:loss = 44581126000.0, step = 17001 (0.275 sec)\n",
      "INFO:tensorflow:global_step/sec: 391.668\n",
      "INFO:tensorflow:loss = 217030770000.0, step = 17101 (0.256 sec)\n",
      "INFO:tensorflow:global_step/sec: 354.883\n",
      "INFO:tensorflow:loss = 51110765000.0, step = 17201 (0.288 sec)\n",
      "INFO:tensorflow:global_step/sec: 384.785\n",
      "INFO:tensorflow:loss = 80168390000.0, step = 17301 (0.255 sec)\n",
      "INFO:tensorflow:global_step/sec: 355.521\n",
      "INFO:tensorflow:loss = 73703460000.0, step = 17401 (0.281 sec)\n",
      "INFO:tensorflow:global_step/sec: 372.74\n",
      "INFO:tensorflow:loss = 86294050000.0, step = 17501 (0.267 sec)\n",
      "INFO:tensorflow:global_step/sec: 361.308\n",
      "INFO:tensorflow:loss = 64185160000.0, step = 17601 (0.282 sec)\n",
      "INFO:tensorflow:global_step/sec: 378.356\n",
      "INFO:tensorflow:loss = 45446197000.0, step = 17701 (0.258 sec)\n",
      "INFO:tensorflow:global_step/sec: 366.505\n",
      "INFO:tensorflow:loss = 72453430000.0, step = 17801 (0.272 sec)\n",
      "INFO:tensorflow:global_step/sec: 360.2\n",
      "INFO:tensorflow:loss = 49276314000.0, step = 17901 (0.280 sec)\n",
      "INFO:tensorflow:global_step/sec: 398.397\n",
      "INFO:tensorflow:loss = 111165830000.0, step = 18001 (0.251 sec)\n",
      "INFO:tensorflow:global_step/sec: 364.607\n",
      "INFO:tensorflow:loss = 88044490000.0, step = 18101 (0.275 sec)\n",
      "INFO:tensorflow:global_step/sec: 368.63\n",
      "INFO:tensorflow:loss = 93530340000.0, step = 18201 (0.269 sec)\n",
      "INFO:tensorflow:global_step/sec: 336.116\n",
      "INFO:tensorflow:loss = 103603100000.0, step = 18301 (0.303 sec)\n",
      "INFO:tensorflow:global_step/sec: 340.71\n",
      "INFO:tensorflow:loss = 100690550000.0, step = 18401 (0.295 sec)\n",
      "INFO:tensorflow:global_step/sec: 361.474\n",
      "INFO:tensorflow:loss = 144505400000.0, step = 18501 (0.270 sec)\n",
      "INFO:tensorflow:global_step/sec: 369.291\n",
      "INFO:tensorflow:loss = 114355420000.0, step = 18601 (0.276 sec)\n",
      "INFO:tensorflow:global_step/sec: 364.607\n",
      "INFO:tensorflow:loss = 21861743000.0, step = 18701 (0.272 sec)\n",
      "INFO:tensorflow:global_step/sec: 367.281\n",
      "INFO:tensorflow:loss = 64107480000.0, step = 18801 (0.274 sec)\n",
      "INFO:tensorflow:global_step/sec: 365.241\n",
      "INFO:tensorflow:loss = 85661680000.0, step = 18901 (0.273 sec)\n",
      "INFO:tensorflow:global_step/sec: 361.202\n",
      "INFO:tensorflow:loss = 38897857000.0, step = 19001 (0.276 sec)\n",
      "INFO:tensorflow:global_step/sec: 362.637\n",
      "INFO:tensorflow:loss = 43828277000.0, step = 19101 (0.275 sec)\n",
      "INFO:tensorflow:global_step/sec: 371.919\n",
      "INFO:tensorflow:loss = 95684950000.0, step = 19201 (0.269 sec)\n",
      "INFO:tensorflow:global_step/sec: 361.975\n",
      "INFO:tensorflow:loss = 60123107000.0, step = 19301 (0.284 sec)\n",
      "INFO:tensorflow:global_step/sec: 345.751\n",
      "INFO:tensorflow:loss = 63413625000.0, step = 19401 (0.283 sec)\n",
      "INFO:tensorflow:global_step/sec: 354.913\n",
      "INFO:tensorflow:loss = 71705450000.0, step = 19501 (0.282 sec)\n",
      "INFO:tensorflow:global_step/sec: 359.826\n",
      "INFO:tensorflow:loss = 23603964000.0, step = 19601 (0.275 sec)\n",
      "INFO:tensorflow:global_step/sec: 345.809\n",
      "INFO:tensorflow:loss = 102883320000.0, step = 19701 (0.294 sec)\n",
      "INFO:tensorflow:global_step/sec: 338.149\n",
      "INFO:tensorflow:loss = 49174340000.0, step = 19801 (0.292 sec)\n",
      "INFO:tensorflow:global_step/sec: 322.403\n",
      "INFO:tensorflow:loss = 54240180000.0, step = 19901 (0.312 sec)\n",
      "INFO:tensorflow:global_step/sec: 353.02\n",
      "INFO:tensorflow:loss = 32380348000.0, step = 20001 (0.279 sec)\n",
      "INFO:tensorflow:global_step/sec: 382.011\n",
      "INFO:tensorflow:loss = 126221525000.0, step = 20101 (0.267 sec)\n",
      "INFO:tensorflow:global_step/sec: 405.098\n",
      "INFO:tensorflow:loss = 105085600000.0, step = 20201 (0.244 sec)\n",
      "INFO:tensorflow:global_step/sec: 365.939\n",
      "INFO:tensorflow:loss = 71661220000.0, step = 20301 (0.279 sec)\n",
      "INFO:tensorflow:global_step/sec: 370.652\n",
      "INFO:tensorflow:loss = 49045380000.0, step = 20401 (0.268 sec)\n",
      "INFO:tensorflow:global_step/sec: 369.99\n",
      "INFO:tensorflow:loss = 87669530000.0, step = 20501 (0.265 sec)\n",
      "INFO:tensorflow:global_step/sec: 365.936\n",
      "INFO:tensorflow:loss = 88275380000.0, step = 20601 (0.281 sec)\n",
      "INFO:tensorflow:global_step/sec: 361.781\n",
      "INFO:tensorflow:loss = 46936994000.0, step = 20701 (0.268 sec)\n",
      "INFO:tensorflow:global_step/sec: 358.484\n",
      "INFO:tensorflow:loss = 59430617000.0, step = 20801 (0.278 sec)\n",
      "INFO:tensorflow:global_step/sec: 361.977\n",
      "INFO:tensorflow:loss = 27601592000.0, step = 20901 (0.278 sec)\n",
      "INFO:tensorflow:global_step/sec: 368.629\n",
      "INFO:tensorflow:loss = 75483490000.0, step = 21001 (0.270 sec)\n",
      "INFO:tensorflow:global_step/sec: 362.612\n",
      "INFO:tensorflow:loss = 29880422000.0, step = 21101 (0.278 sec)\n",
      "INFO:tensorflow:global_step/sec: 356.822\n",
      "INFO:tensorflow:loss = 41122380000.0, step = 21201 (0.279 sec)\n",
      "INFO:tensorflow:global_step/sec: 356.823\n",
      "INFO:tensorflow:loss = 103775190000.0, step = 21301 (0.282 sec)\n",
      "INFO:tensorflow:global_step/sec: 353.658\n",
      "INFO:tensorflow:loss = 50150187000.0, step = 21401 (0.287 sec)\n",
      "INFO:tensorflow:global_step/sec: 370.898\n",
      "INFO:tensorflow:loss = 39638140000.0, step = 21501 (0.270 sec)\n",
      "INFO:tensorflow:global_step/sec: 361.977\n",
      "INFO:tensorflow:loss = 53451235000.0, step = 21601 (0.268 sec)\n",
      "INFO:tensorflow:global_step/sec: 372.741\n",
      "INFO:tensorflow:loss = 63766690000.0, step = 21701 (0.275 sec)\n",
      "INFO:tensorflow:global_step/sec: 355.5\n",
      "INFO:tensorflow:loss = 57112330000.0, step = 21801 (0.277 sec)\n",
      "INFO:tensorflow:global_step/sec: 360.801\n",
      "INFO:tensorflow:loss = 62245010000.0, step = 21901 (0.273 sec)\n",
      "INFO:tensorflow:global_step/sec: 357.431\n",
      "INFO:tensorflow:loss = 134632186000.0, step = 22001 (0.281 sec)\n",
      "INFO:tensorflow:global_step/sec: 350.547\n",
      "INFO:tensorflow:loss = 85453330000.0, step = 22101 (0.292 sec)\n",
      "INFO:tensorflow:global_step/sec: 339.173\n",
      "INFO:tensorflow:loss = 31835947000.0, step = 22201 (0.292 sec)\n",
      "INFO:tensorflow:global_step/sec: 333.653\n",
      "INFO:tensorflow:loss = 81174440000.0, step = 22301 (0.296 sec)\n",
      "INFO:tensorflow:global_step/sec: 334.766\n",
      "INFO:tensorflow:loss = 55170482000.0, step = 22401 (0.301 sec)\n",
      "INFO:tensorflow:global_step/sec: 350.586\n",
      "INFO:tensorflow:loss = 30064234000.0, step = 22501 (0.288 sec)\n",
      "INFO:tensorflow:global_step/sec: 334.724\n",
      "INFO:tensorflow:loss = 78761206000.0, step = 22601 (0.300 sec)\n",
      "INFO:tensorflow:global_step/sec: 359.384\n",
      "INFO:tensorflow:loss = 111625945000.0, step = 22701 (0.272 sec)\n",
      "INFO:tensorflow:global_step/sec: 324.996\n",
      "INFO:tensorflow:loss = 37307860000.0, step = 22801 (0.310 sec)\n",
      "INFO:tensorflow:global_step/sec: 334.225\n",
      "INFO:tensorflow:loss = 35170742000.0, step = 22901 (0.301 sec)\n",
      "INFO:tensorflow:global_step/sec: 359.381\n",
      "INFO:tensorflow:loss = 28636766000.0, step = 23001 (0.275 sec)\n",
      "INFO:tensorflow:global_step/sec: 341.973\n",
      "INFO:tensorflow:loss = 30178265000.0, step = 23101 (0.298 sec)\n",
      "INFO:tensorflow:global_step/sec: 339.891\n",
      "INFO:tensorflow:loss = 59752790000.0, step = 23201 (0.288 sec)\n",
      "INFO:tensorflow:global_step/sec: 344.561\n",
      "INFO:tensorflow:loss = 96839470000.0, step = 23301 (0.296 sec)\n",
      "INFO:tensorflow:global_step/sec: 342.778\n",
      "INFO:tensorflow:loss = 114962320000.0, step = 23401 (0.289 sec)\n"
     ]
    },
    {
     "name": "stdout",
     "output_type": "stream",
     "text": [
      "INFO:tensorflow:global_step/sec: 338.741\n",
      "INFO:tensorflow:loss = 114061180000.0, step = 23501 (0.295 sec)\n",
      "INFO:tensorflow:global_step/sec: 354.862\n",
      "INFO:tensorflow:loss = 41445646000.0, step = 23601 (0.279 sec)\n",
      "INFO:tensorflow:global_step/sec: 384.166\n",
      "INFO:tensorflow:loss = 36850460000.0, step = 23701 (0.261 sec)\n",
      "INFO:tensorflow:global_step/sec: 361.834\n",
      "INFO:tensorflow:loss = 36969734000.0, step = 23801 (0.274 sec)\n",
      "INFO:tensorflow:global_step/sec: 357.71\n",
      "INFO:tensorflow:loss = 42416420000.0, step = 23901 (0.291 sec)\n",
      "INFO:tensorflow:global_step/sec: 357.116\n",
      "INFO:tensorflow:loss = 51249447000.0, step = 24001 (0.276 sec)\n",
      "INFO:tensorflow:global_step/sec: 371.193\n",
      "INFO:tensorflow:loss = 21376772000.0, step = 24101 (0.266 sec)\n",
      "INFO:tensorflow:global_step/sec: 346.95\n",
      "INFO:tensorflow:loss = 128046220000.0, step = 24201 (0.288 sec)\n",
      "INFO:tensorflow:global_step/sec: 378.181\n",
      "INFO:tensorflow:loss = 30116633000.0, step = 24301 (0.265 sec)\n",
      "INFO:tensorflow:global_step/sec: 365.938\n",
      "INFO:tensorflow:loss = 93509120000.0, step = 24401 (0.270 sec)\n",
      "INFO:tensorflow:global_step/sec: 355.559\n",
      "INFO:tensorflow:loss = 45168538000.0, step = 24501 (0.283 sec)\n",
      "INFO:tensorflow:global_step/sec: 338.74\n",
      "INFO:tensorflow:loss = 34558160000.0, step = 24601 (0.294 sec)\n",
      "INFO:tensorflow:global_step/sec: 320.844\n",
      "INFO:tensorflow:loss = 58001390000.0, step = 24701 (0.312 sec)\n",
      "INFO:tensorflow:global_step/sec: 319.818\n",
      "INFO:tensorflow:loss = 74022170000.0, step = 24801 (0.317 sec)\n",
      "INFO:tensorflow:global_step/sec: 346.946\n",
      "INFO:tensorflow:loss = 83617686000.0, step = 24901 (0.285 sec)\n",
      "INFO:tensorflow:Saving checkpoints for 25000 into C:\\Users\\Eshban\\AppData\\Local\\Temp\\tmpzgw18iql\\model.ckpt.\n",
      "INFO:tensorflow:Loss for final step: 82042390000.0.\n"
     ]
    },
    {
     "data": {
      "text/plain": [
       "<tensorflow.python.estimator.canned.dnn.DNNRegressor at 0x260e13aa908>"
      ]
     },
     "execution_count": 20,
     "metadata": {},
     "output_type": "execute_result"
    }
   ],
   "source": [
    "regressor.train(input_fn=input_function, steps=25000)"
   ]
  },
  {
   "cell_type": "markdown",
   "metadata": {},
   "source": [
    "# Prediction Input Function"
   ]
  },
  {
   "cell_type": "code",
   "execution_count": 21,
   "metadata": {},
   "outputs": [],
   "source": [
    "predict_input_function = tf.estimator.inputs.pandas_input_fn(x=X_test, batch_size=10, num_epochs=1,shuffle=False)"
   ]
  },
  {
   "cell_type": "markdown",
   "metadata": {},
   "source": [
    "# Predicting Test Set Values"
   ]
  },
  {
   "cell_type": "code",
   "execution_count": 22,
   "metadata": {},
   "outputs": [],
   "source": [
    "prediction = regressor.predict(predict_input_function)"
   ]
  },
  {
   "cell_type": "code",
   "execution_count": 23,
   "metadata": {},
   "outputs": [
    {
     "name": "stdout",
     "output_type": "stream",
     "text": [
      "INFO:tensorflow:Calling model_fn.\n",
      "INFO:tensorflow:Done calling model_fn.\n",
      "INFO:tensorflow:Graph was finalized.\n",
      "INFO:tensorflow:Restoring parameters from C:\\Users\\Eshban\\AppData\\Local\\Temp\\tmpzgw18iql\\model.ckpt-25000\n",
      "INFO:tensorflow:Running local_init_op.\n",
      "INFO:tensorflow:Done running local_init_op.\n"
     ]
    }
   ],
   "source": [
    "predictions = list(prediction)"
   ]
  },
  {
   "cell_type": "markdown",
   "metadata": {},
   "source": [
    "# Calculating the RMSE"
   ]
  },
  {
   "cell_type": "code",
   "execution_count": 24,
   "metadata": {},
   "outputs": [],
   "source": [
    "final_predictions = []\n",
    "\n",
    "for pred in predictions:\n",
    "    final_predictions.append(pred['predictions'])"
   ]
  },
  {
   "cell_type": "code",
   "execution_count": 25,
   "metadata": {},
   "outputs": [],
   "source": [
    "from sklearn.metrics import mean_squared_error"
   ]
  },
  {
   "cell_type": "code",
   "execution_count": 26,
   "metadata": {},
   "outputs": [
    {
     "data": {
      "text/plain": [
       "82620.19902181032"
      ]
     },
     "execution_count": 26,
     "metadata": {},
     "output_type": "execute_result"
    }
   ],
   "source": [
    "mean_squared_error(y_test, final_predictions)**0.5"
   ]
  },
  {
   "cell_type": "code",
   "execution_count": null,
   "metadata": {},
   "outputs": [],
   "source": []
  }
 ],
 "metadata": {
  "kernelspec": {
   "display_name": "Python 3",
   "language": "python",
   "name": "python3"
  },
  "language_info": {
   "codemirror_mode": {
    "name": "ipython",
    "version": 3
   },
   "file_extension": ".py",
   "mimetype": "text/x-python",
   "name": "python",
   "nbconvert_exporter": "python",
   "pygments_lexer": "ipython3",
   "version": "3.6.5"
  }
 },
 "nbformat": 4,
 "nbformat_minor": 2
}
