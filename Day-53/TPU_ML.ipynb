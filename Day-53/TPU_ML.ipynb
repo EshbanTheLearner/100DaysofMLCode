{
  "nbformat": 4,
  "nbformat_minor": 0,
  "metadata": {
    "colab": {
      "name": "TPU_ML.ipynb",
      "version": "0.3.2",
      "provenance": [],
      "collapsed_sections": []
    },
    "kernelspec": {
      "name": "python3",
      "display_name": "Python 3"
    },
    "accelerator": "TPU"
  },
  "cells": [
    {
      "metadata": {
        "id": "3jSn2tDT3K1I",
        "colab_type": "code",
        "colab": {}
      },
      "cell_type": "code",
      "source": [
        "import os\n",
        "import tensorflow as tf\n",
        "import time\n",
        "import numpy as np"
      ],
      "execution_count": 0,
      "outputs": []
    },
    {
      "metadata": {
        "id": "qRVoICUm33QC",
        "colab_type": "code",
        "colab": {
          "base_uri": "https://localhost:8080/",
          "height": 170
        },
        "outputId": "dc153bcb-d0e3-4b1d-c849-48660b20b9d4"
      },
      "cell_type": "code",
      "source": [
        "def add_op(x, y):\n",
        "  return x + y\n",
        "\n",
        "x = tf.placeholder(tf.float32, [100,])\n",
        "y = tf.placeholder(tf.float32, [100,])\n",
        "\n",
        "session = tf.Session()\n",
        "\n",
        "with tf.Session() as session:\n",
        "  start = time.time()\n",
        "  result = session.run(add_op(x,y), feed_dict={x:np.arange(100), y:np.arange(100)})\n",
        "  end = time.time()\n",
        "  elapsed = end-start\n",
        "  print(elapsed)\n",
        "  print(result)"
      ],
      "execution_count": 3,
      "outputs": [
        {
          "output_type": "stream",
          "text": [
            "0.018573522567749023\n",
            "[  0.   2.   4.   6.   8.  10.  12.  14.  16.  18.  20.  22.  24.  26.\n",
            "  28.  30.  32.  34.  36.  38.  40.  42.  44.  46.  48.  50.  52.  54.\n",
            "  56.  58.  60.  62.  64.  66.  68.  70.  72.  74.  76.  78.  80.  82.\n",
            "  84.  86.  88.  90.  92.  94.  96.  98. 100. 102. 104. 106. 108. 110.\n",
            " 112. 114. 116. 118. 120. 122. 124. 126. 128. 130. 132. 134. 136. 138.\n",
            " 140. 142. 144. 146. 148. 150. 152. 154. 156. 158. 160. 162. 164. 166.\n",
            " 168. 170. 172. 174. 176. 178. 180. 182. 184. 186. 188. 190. 192. 194.\n",
            " 196. 198.]\n"
          ],
          "name": "stdout"
        }
      ]
    },
    {
      "metadata": {
        "id": "yJPc7ZLL33Mx",
        "colab_type": "code",
        "colab": {
          "base_uri": "https://localhost:8080/",
          "height": 71
        },
        "outputId": "f0f9fc65-3602-41e6-c006-e82d06e26a40"
      },
      "cell_type": "code",
      "source": [
        "tpu_address = 'grpc://' + os.environ['COLAB_TPU_ADDR']\n",
        "print('TPU Adrress is:', tpu_address)\n",
        "\n",
        "with tf.Session(tpu_address) as session:\n",
        "  devices = session.list_devices()\n",
        "  \n",
        "print('TPU Devices: ', devices)"
      ],
      "execution_count": 2,
      "outputs": [
        {
          "output_type": "stream",
          "text": [
            "TPU Adrress is: grpc://10.92.141.242:8470\n",
            "TPU Devices:  [_DeviceAttributes(/job:tpu_worker/replica:0/task:0/device:CPU:0, CPU, -1, 4202958407359378302), _DeviceAttributes(/job:tpu_worker/replica:0/task:0/device:XLA_CPU:0, XLA_CPU, 17179869184, 457445209313220937), _DeviceAttributes(/job:tpu_worker/replica:0/task:0/device:XLA_GPU:0, XLA_GPU, 17179869184, 15629492005101444973), _DeviceAttributes(/job:tpu_worker/replica:0/task:0/device:TPU:0, TPU, 17179869184, 14668869961732076666), _DeviceAttributes(/job:tpu_worker/replica:0/task:0/device:TPU:1, TPU, 17179869184, 16808241019051115994), _DeviceAttributes(/job:tpu_worker/replica:0/task:0/device:TPU:2, TPU, 17179869184, 9973309496827891006), _DeviceAttributes(/job:tpu_worker/replica:0/task:0/device:TPU:3, TPU, 17179869184, 14845422368589526680), _DeviceAttributes(/job:tpu_worker/replica:0/task:0/device:TPU:4, TPU, 17179869184, 11318821564096090345), _DeviceAttributes(/job:tpu_worker/replica:0/task:0/device:TPU:5, TPU, 17179869184, 7026777184471940909), _DeviceAttributes(/job:tpu_worker/replica:0/task:0/device:TPU:6, TPU, 17179869184, 18183950162161789584), _DeviceAttributes(/job:tpu_worker/replica:0/task:0/device:TPU:7, TPU, 17179869184, 15166143720742119535), _DeviceAttributes(/job:tpu_worker/replica:0/task:0/device:TPU_SYSTEM:0, TPU_SYSTEM, 17179869184, 14193119628471348710)]\n"
          ],
          "name": "stdout"
        }
      ]
    },
    {
      "metadata": {
        "id": "MuC9wiMd52jE",
        "colab_type": "code",
        "colab": {
          "base_uri": "https://localhost:8080/",
          "height": 204
        },
        "outputId": "8164b69b-be20-4ec3-e5a0-6f2fbc62b1e2"
      },
      "cell_type": "code",
      "source": [
        "def add_op(x, y):\n",
        "  return x + y\n",
        "\n",
        "x = tf.placeholder(tf.float32, [100,])\n",
        "y = tf.placeholder(tf.float32, [100,])\n",
        "\n",
        "tpu_ops = tf.contrib.tpu.rewrite(add_op,[x,y])\n",
        "\n",
        "session = tf.Session(tpu_address)\n",
        "\n",
        "try:\n",
        "  session.run(tf.contrib.tpu.initialize_system())\n",
        "  start = time.time()\n",
        "  print(session.run(tpu_ops, {x: np.arange(100), y:np.arange(100)}))\n",
        "  end = time.time()\n",
        "  elapsed = end - start\n",
        "  print(elapsed)\n",
        "finally:\n",
        "  session.run(tf.contrib.tpu.shutdown_system())\n",
        "  session.close()"
      ],
      "execution_count": 3,
      "outputs": [
        {
          "output_type": "stream",
          "text": [
            "[array([  0.,   2.,   4.,   6.,   8.,  10.,  12.,  14.,  16.,  18.,  20.,\n",
            "        22.,  24.,  26.,  28.,  30.,  32.,  34.,  36.,  38.,  40.,  42.,\n",
            "        44.,  46.,  48.,  50.,  52.,  54.,  56.,  58.,  60.,  62.,  64.,\n",
            "        66.,  68.,  70.,  72.,  74.,  76.,  78.,  80.,  82.,  84.,  86.,\n",
            "        88.,  90.,  92.,  94.,  96.,  98., 100., 102., 104., 106., 108.,\n",
            "       110., 112., 114., 116., 118., 120., 122., 124., 126., 128., 130.,\n",
            "       132., 134., 136., 138., 140., 142., 144., 146., 148., 150., 152.,\n",
            "       154., 156., 158., 160., 162., 164., 166., 168., 170., 172., 174.,\n",
            "       176., 178., 180., 182., 184., 186., 188., 190., 192., 194., 196.,\n",
            "       198.], dtype=float32)]\n",
            "0.022487640380859375\n"
          ],
          "name": "stdout"
        }
      ]
    },
    {
      "metadata": {
        "id": "wLa4NOri33J4",
        "colab_type": "code",
        "colab": {
          "base_uri": "https://localhost:8080/",
          "height": 870
        },
        "outputId": "cb32ca13-83ca-4010-bcd0-1d1d17f480b7"
      },
      "cell_type": "code",
      "source": [
        "import tensorflow as tf\n",
        "import keras\n",
        "import tensorflow.keras.backend as K\n",
        "import numpy as np\n",
        "from tensorflow.contrib.tpu.python.tpu import keras_support\n",
        "from tensorflow.keras.layers import Input, Conv2D, BatchNormalization, Activation, AveragePooling2D, Dense, Dropout, Flatten\n",
        "from tensorflow.keras.datasets import cifar10\n",
        "from tensorflow.keras.models import Model, Sequential\n",
        "from tensorflow.keras.utils import to_categorical\n",
        "import os\n",
        "\n",
        "def basic_mlp_module(input, units):\n",
        "    x = Dense(units)(input)\n",
        "    x = BatchNormalization()(x)\n",
        "    x = Activation(\"relu\")(x)\n",
        "    x = Dropout(0.5)(x)\n",
        "    return x\n",
        "\n",
        "def create_mlp_model():\n",
        "    input = Input((32*32*3,))\n",
        "    x = basic_mlp_module(input, 2048)\n",
        "    x = basic_mlp_module(x, 1024)\n",
        "    x = basic_mlp_module(x, 512)\n",
        "    x = basic_mlp_module(x, 256)\n",
        "    x = basic_mlp_module(x, 128)\n",
        "    x = basic_mlp_module(x, 64)\n",
        "    x = basic_mlp_module(x, 32)\n",
        "    x = basic_mlp_module(x, 16)\n",
        "    x = Dense(10, activation=\"softmax\")(x)\n",
        "    return Model(input, x)\n",
        "\n",
        "def main():\n",
        "    # 7 lets make this into TPU Code!!!\n",
        "    K.clear_session()\n",
        "\n",
        "    # CIFAR\n",
        "    (X_train, y_train), (_, _) = cifar10.load_data()\n",
        "    X_train = (X_train / 255.0).reshape(50000, -1)\n",
        "    y_train = to_categorical(y_train)\n",
        "\n",
        "    # Model building\n",
        "    model = create_mlp_model()\n",
        "    optimizer = tf.train.AdamOptimizer(learning_rate=1e-3)\n",
        "    tpu_optimizer = tf.contrib.tpu.CrossShardOptimizer(optimizer)\n",
        "    model.compile(tpu_optimizer, loss=\"categorical_crossentropy\", metrics=[\"acc\"])\n",
        "    \n",
        "    tpu_grpc_url = 'grpc://' + os.environ['COLAB_TPU_ADDR']\n",
        "    tpu_cluster_resolver = tf.contrib.cluster_resolver.TPUClusterResolver(tpu_grpc_url)\n",
        "    strategy = tf.contrib.tpu.TPUDistributionStrategy(tpu_cluster_resolver)\n",
        "    model = tf.contrib.tpu.keras_to_tpu_model(model, strategy=strategy)\n",
        "  \n",
        "    model.fit(X_train, y_train, batch_size=1024, epochs=10)\n",
        "\n",
        "if __name__ == \"__main__\":\n",
        "    main()"
      ],
      "execution_count": 10,
      "outputs": [
        {
          "output_type": "stream",
          "text": [
            "INFO:tensorflow:Querying Tensorflow master (b'grpc://10.92.141.242:8470') for TPU system metadata.\n",
            "INFO:tensorflow:Found TPU system:\n",
            "INFO:tensorflow:*** Num TPU Cores: 8\n",
            "INFO:tensorflow:*** Num TPU Workers: 1\n",
            "INFO:tensorflow:*** Num TPU Cores Per Worker: 8\n",
            "INFO:tensorflow:*** Available Device: _DeviceAttributes(/job:worker/replica:0/task:0/device:CPU:0, CPU, -1, 4202958407359378302)\n",
            "INFO:tensorflow:*** Available Device: _DeviceAttributes(/job:worker/replica:0/task:0/device:XLA_CPU:0, XLA_CPU, 17179869184, 457445209313220937)\n",
            "INFO:tensorflow:*** Available Device: _DeviceAttributes(/job:worker/replica:0/task:0/device:XLA_GPU:0, XLA_GPU, 17179869184, 15629492005101444973)\n",
            "INFO:tensorflow:*** Available Device: _DeviceAttributes(/job:worker/replica:0/task:0/device:TPU:0, TPU, 17179869184, 14668869961732076666)\n",
            "INFO:tensorflow:*** Available Device: _DeviceAttributes(/job:worker/replica:0/task:0/device:TPU:1, TPU, 17179869184, 16808241019051115994)\n",
            "INFO:tensorflow:*** Available Device: _DeviceAttributes(/job:worker/replica:0/task:0/device:TPU:2, TPU, 17179869184, 9973309496827891006)\n",
            "INFO:tensorflow:*** Available Device: _DeviceAttributes(/job:worker/replica:0/task:0/device:TPU:3, TPU, 17179869184, 14845422368589526680)\n",
            "INFO:tensorflow:*** Available Device: _DeviceAttributes(/job:worker/replica:0/task:0/device:TPU:4, TPU, 17179869184, 11318821564096090345)\n",
            "INFO:tensorflow:*** Available Device: _DeviceAttributes(/job:worker/replica:0/task:0/device:TPU:5, TPU, 17179869184, 7026777184471940909)\n",
            "INFO:tensorflow:*** Available Device: _DeviceAttributes(/job:worker/replica:0/task:0/device:TPU:6, TPU, 17179869184, 18183950162161789584)\n",
            "INFO:tensorflow:*** Available Device: _DeviceAttributes(/job:worker/replica:0/task:0/device:TPU:7, TPU, 17179869184, 15166143720742119535)\n",
            "INFO:tensorflow:*** Available Device: _DeviceAttributes(/job:worker/replica:0/task:0/device:TPU_SYSTEM:0, TPU_SYSTEM, 17179869184, 14193119628471348710)\n",
            "WARNING:tensorflow:tpu_model (from tensorflow.contrib.tpu.python.tpu.keras_support) is experimental and may change or be removed at any time, and without warning.\n",
            "Epoch 1/10\n",
            "INFO:tensorflow:New input shapes; (re-)compiling: mode=train (# of cores 8), [TensorSpec(shape=(128,), dtype=tf.int32, name='core_id0'), TensorSpec(shape=(128, 3072), dtype=tf.float32, name='input_1_10'), TensorSpec(shape=(128, 10), dtype=tf.float32, name='dense_8_target_30')]\n",
            "INFO:tensorflow:Overriding default placeholder.\n",
            "INFO:tensorflow:Remapping placeholder for input_1\n",
            "INFO:tensorflow:Started compiling\n",
            "INFO:tensorflow:Finished compiling. Time elapsed: 6.159038782119751 secs\n",
            "INFO:tensorflow:Setting weights on TPU model.\n",
            "48128/50000 [===========================>..] - ETA: 1s - loss: 2.5965 - acc: 0.1029INFO:tensorflow:New input shapes; (re-)compiling: mode=train (# of cores 8), [TensorSpec(shape=(106,), dtype=tf.int32, name='core_id0'), TensorSpec(shape=(106, 3072), dtype=tf.float32, name='input_1_10'), TensorSpec(shape=(106, 10), dtype=tf.float32, name='dense_8_target_30')]\n",
            "INFO:tensorflow:Overriding default placeholder.\n",
            "INFO:tensorflow:Remapping placeholder for input_1\n",
            "INFO:tensorflow:Started compiling\n",
            "INFO:tensorflow:Finished compiling. Time elapsed: 5.237224340438843 secs\n",
            "50000/50000 [==============================] - 39s 777us/step - loss: 2.5933 - acc: 0.1024\n",
            "Epoch 2/10\n",
            "50000/50000 [==============================] - 11s 223us/step - loss: 2.4285 - acc: 0.1058\n",
            "Epoch 3/10\n",
            "50000/50000 [==============================] - 11s 224us/step - loss: 2.3628 - acc: 0.1054\n",
            "Epoch 4/10\n",
            "50000/50000 [==============================] - 11s 220us/step - loss: 2.3261 - acc: 0.1093\n",
            "Epoch 5/10\n",
            "50000/50000 [==============================] - 11s 224us/step - loss: 2.3113 - acc: 0.1122\n",
            "Epoch 6/10\n",
            "50000/50000 [==============================] - 11s 228us/step - loss: 2.3007 - acc: 0.1179\n",
            "Epoch 7/10\n",
            "50000/50000 [==============================] - 11s 224us/step - loss: 2.2873 - acc: 0.1283\n",
            "Epoch 8/10\n",
            "50000/50000 [==============================] - 11s 224us/step - loss: 2.2665 - acc: 0.1393\n",
            "Epoch 9/10\n",
            "50000/50000 [==============================] - 11s 225us/step - loss: 2.2285 - acc: 0.1560\n",
            "Epoch 10/10\n",
            "50000/50000 [==============================] - 11s 224us/step - loss: 2.1853 - acc: 0.1686\n"
          ],
          "name": "stdout"
        }
      ]
    },
    {
      "metadata": {
        "id": "cOE-Diwy945o",
        "colab_type": "code",
        "colab": {}
      },
      "cell_type": "code",
      "source": [
        ""
      ],
      "execution_count": 0,
      "outputs": []
    }
  ]
}