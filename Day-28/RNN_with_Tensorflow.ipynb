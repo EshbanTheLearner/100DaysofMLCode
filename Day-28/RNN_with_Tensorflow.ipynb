{
 "cells": [
  {
   "cell_type": "markdown",
   "metadata": {},
   "source": [
    "# Importing the Libraries"
   ]
  },
  {
   "cell_type": "code",
   "execution_count": 0,
   "metadata": {
    "colab": {},
    "colab_type": "code",
    "id": "bdijBCcmaYB-"
   },
   "outputs": [],
   "source": [
    "import numpy as np\n",
    "import tensorflow as tf\n",
    "import matplotlib.pyplot as plt\n",
    "%matplotlib inline"
   ]
  },
  {
   "cell_type": "markdown",
   "metadata": {},
   "source": [
    "# Generating Time Series Data"
   ]
  },
  {
   "cell_type": "code",
   "execution_count": 0,
   "metadata": {
    "colab": {},
    "colab_type": "code",
    "id": "p3e1CTqVbQve"
   },
   "outputs": [],
   "source": [
    "class TimeSeriesData():\n",
    "  \n",
    "    def __init__(self, num_points, x_min, x_max):\n",
    "        self.num_points = num_points\n",
    "        self.x_min = x_min\n",
    "        self.x_max = x_max\n",
    "        self.resolution = (x_max - x_min)/num_points\n",
    "        self.x_data = np.linspace(x_min, x_max, num_points)\n",
    "        self.y_true = np.sin(self.x_data)\n",
    "    \n",
    "    def ret_true(self, x_series):\n",
    "        return np.sin(x_series)\n",
    "  \n",
    "    def next_batch(self, batch_size, steps, return_batch_ts=False):\n",
    "        rand_start = np.random.rand(batch_size, 1)\n",
    "        ts_start = rand_start*(self.x_max - self.x_min - (steps*self.resolution))\n",
    "        batch_ts = ts_start + np.arange(0.0, steps+1)*self.resolution\n",
    "        y_batch = np.sin(batch_ts)\n",
    "    \n",
    "        if return_batch_ts:\n",
    "            return y_batch[:, :-1].reshape(-1, steps, 1), y_batch[:, 1:].reshape(-1, steps, 1), batch_ts\n",
    "        else:\n",
    "            return y_batch[:, :-1].reshape(-1, steps, 1), y_batch[:, 1:].reshape(-1, steps, 1)"
   ]
  },
  {
   "cell_type": "markdown",
   "metadata": {},
   "source": [
    "# Instantiating a data object"
   ]
  },
  {
   "cell_type": "code",
   "execution_count": 0,
   "metadata": {
    "colab": {},
    "colab_type": "code",
    "id": "vqvvHPxUdoWm"
   },
   "outputs": [],
   "source": [
    "ts_data = TimeSeriesData(250, 0, 10)"
   ]
  },
  {
   "cell_type": "markdown",
   "metadata": {},
   "source": [
    "# Sine Wave"
   ]
  },
  {
   "cell_type": "code",
   "execution_count": 4,
   "metadata": {
    "colab": {
     "base_uri": "https://localhost:8080/",
     "height": 282
    },
    "colab_type": "code",
    "id": "D56h5JL8dwuu",
    "outputId": "9c4bcf39-0684-4427-f736-59d45b5f5315"
   },
   "outputs": [
    {
     "data": {
      "text/plain": [
       "[<matplotlib.lines.Line2D at 0x7fd52bcba1d0>]"
      ]
     },
     "execution_count": 4,
     "metadata": {
      "tags": []
     },
     "output_type": "execute_result"
    },
    {
     "data": {
      "image/png": "[encoded data removed]",
      "text/plain": [
       "<matplotlib.figure.Figure at 0x7fd52bd3bc50>"
      ]
     },
     "metadata": {
      "tags": []
     },
     "output_type": "display_data"
    }
   ],
   "source": [
    "plt.plot(ts_data.x_data, ts_data.y_true)"
   ]
  },
  {
   "cell_type": "markdown",
   "metadata": {},
   "source": [
    "## Defining time steps"
   ]
  },
  {
   "cell_type": "code",
   "execution_count": 0,
   "metadata": {
    "colab": {},
    "colab_type": "code",
    "id": "rk5TNQ35d8HS"
   },
   "outputs": [],
   "source": [
    "num_time_steps = 30"
   ]
  },
  {
   "cell_type": "code",
   "execution_count": 0,
   "metadata": {
    "colab": {},
    "colab_type": "code",
    "id": "wwEN4jNreHT4"
   },
   "outputs": [],
   "source": [
    "y1, y2, ts = ts_data.next_batch(1, num_time_steps, True)"
   ]
  },
  {
   "cell_type": "code",
   "execution_count": 7,
   "metadata": {
    "colab": {
     "base_uri": "https://localhost:8080/",
     "height": 282
    },
    "colab_type": "code",
    "id": "KKYh1Xu3eR4W",
    "outputId": "f7d38e47-c84e-407b-af28-9b939da849eb"
   },
   "outputs": [
    {
     "data": {
      "text/plain": [
       "[<matplotlib.lines.Line2D at 0x7fd529458550>]"
      ]
     },
     "execution_count": 7,
     "metadata": {
      "tags": []
     },
     "output_type": "execute_result"
    },
    {
     "data": {
      "image/png": "[encoded data removed]",
      "text/plain": [
       "<matplotlib.figure.Figure at 0x7fd52bd5c630>"
      ]
     },
     "metadata": {
      "tags": []
     },
     "output_type": "display_data"
    }
   ],
   "source": [
    "plt.plot(ts.flatten()[1:], y2.flatten(), '*')"
   ]
  },
  {
   "cell_type": "markdown",
   "metadata": {},
   "source": [
    "# Plotting a training instance"
   ]
  },
  {
   "cell_type": "code",
   "execution_count": 8,
   "metadata": {
    "colab": {
     "base_uri": "https://localhost:8080/",
     "height": 297
    },
    "colab_type": "code",
    "id": "J4q9bTAQeriY",
    "outputId": "d9e1d224-e31f-4e05-c5a8-e5900136a7ce"
   },
   "outputs": [
    {
     "data": {
      "image/png": "[encoded data removed]",
      "text/plain": [
       "<matplotlib.figure.Figure at 0x7fd52bd5cf98>"
      ]
     },
     "metadata": {
      "tags": []
     },
     "output_type": "display_data"
    }
   ],
   "source": [
    "plt.plot(ts_data.x_data, ts_data.y_true, label='Sin(t)')\n",
    "plt.plot(ts.flatten()[1:], y2.flatten(), '*', label='Single Training Instance')\n",
    "plt.legend()\n",
    "plt.tight_layout()"
   ]
  },
  {
   "cell_type": "code",
   "execution_count": 0,
   "metadata": {
    "colab": {},
    "colab_type": "code",
    "id": "8b-MDASufMNl"
   },
   "outputs": [],
   "source": [
    "train_inst = np.linspace(5,5 + ts_data.resolution*(num_time_steps+1), num_time_steps+1)"
   ]
  },
  {
   "cell_type": "markdown",
   "metadata": {},
   "source": [
    "# Plotting the training instance trend"
   ]
  },
  {
   "cell_type": "code",
   "execution_count": 10,
   "metadata": {
    "colab": {
     "base_uri": "https://localhost:8080/",
     "height": 299
    },
    "colab_type": "code",
    "id": "v5vTQKB1sxkb",
    "outputId": "564f122e-2fc4-4126-bf4f-137f11ffaf12"
   },
   "outputs": [
    {
     "data": {
      "text/plain": [
       "[<matplotlib.lines.Line2D at 0x7fd529344d30>]"
      ]
     },
     "execution_count": 10,
     "metadata": {
      "tags": []
     },
     "output_type": "execute_result"
    },
    {
     "data": {
      "image/png": "[encoded data removed]",
      "text/plain": [
       "<matplotlib.figure.Figure at 0x7fd52941c668>"
      ]
     },
     "metadata": {
      "tags": []
     },
     "output_type": "display_data"
    }
   ],
   "source": [
    "plt.title('A Training Instance', fontsize=14)\n",
    "plt.plot(train_inst[:-1], ts_data.ret_true(train_inst[:-1]), 'bo', markersize=15, alpha=0.5, label='instance')\n",
    "plt.plot(train_inst[1:], ts_data.ret_true(train_inst[1:]), \"ko\", markersize=7, label=\"target\")"
   ]
  },
  {
   "cell_type": "code",
   "execution_count": 0,
   "metadata": {
    "colab": {},
    "colab_type": "code",
    "id": "cn7x6itItqfc"
   },
   "outputs": [],
   "source": [
    "tf.reset_default_graph()"
   ]
  },
  {
   "cell_type": "markdown",
   "metadata": {},
   "source": [
    "# Hyper-parameters"
   ]
  },
  {
   "cell_type": "code",
   "execution_count": 0,
   "metadata": {
    "colab": {},
    "colab_type": "code",
    "id": "bMDnnKUJuA9G"
   },
   "outputs": [],
   "source": [
    "num_inputs = 1\n",
    "num_neurons = 100\n",
    "num_outputs = 1\n",
    "learning_rate = 0.0001\n",
    "num_train_iterations = 2000\n",
    "batch_size = 1"
   ]
  },
  {
   "cell_type": "markdown",
   "metadata": {},
   "source": [
    "# Placeholders"
   ]
  },
  {
   "cell_type": "code",
   "execution_count": 0,
   "metadata": {
    "colab": {},
    "colab_type": "code",
    "id": "H4LKywVYuN0s"
   },
   "outputs": [],
   "source": [
    "X = tf.placeholder(tf.float32, [None, num_time_steps, num_inputs])\n",
    "y = tf.placeholder(tf.float32, [None, num_time_steps, num_inputs])"
   ]
  },
  {
   "cell_type": "markdown",
   "metadata": {},
   "source": [
    "# The RNN Cell"
   ]
  },
  {
   "cell_type": "code",
   "execution_count": 14,
   "metadata": {
    "colab": {
     "base_uri": "https://localhost:8080/",
     "height": 88
    },
    "colab_type": "code",
    "id": "wCrWel2lubFf",
    "outputId": "43cf0965-2bc2-4b91-e10e-ef3abffbb3d3"
   },
   "outputs": [
    {
     "name": "stdout",
     "output_type": "stream",
     "text": [
      "WARNING:tensorflow:From <ipython-input-14-507ae459b7ef>:1: BasicRNNCell.__init__ (from tensorflow.python.ops.rnn_cell_impl) is deprecated and will be removed in a future version.\n",
      "Instructions for updating:\n",
      "This class is equivalent as tf.keras.layers.SimpleRNNCell, and will be replaced by that in Tensorflow 2.0.\n"
     ]
    }
   ],
   "source": [
    "cell = tf.contrib.rnn.OutputProjectionWrapper(tf.contrib.rnn.BasicRNNCell(num_units = num_neurons, activation = tf.nn.relu), output_size = num_outputs)"
   ]
  },
  {
   "cell_type": "markdown",
   "metadata": {},
   "source": [
    "# Storing the outputs and the state of our RNN Cell"
   ]
  },
  {
   "cell_type": "code",
   "execution_count": 0,
   "metadata": {
    "colab": {},
    "colab_type": "code",
    "id": "4-VUPGEdu2Bw"
   },
   "outputs": [],
   "source": [
    "outputs, states = tf.nn.dynamic_rnn(cell, X, dtype = tf.float32)"
   ]
  },
  {
   "cell_type": "markdown",
   "metadata": {},
   "source": [
    "# Loss Function and Optimization Technique"
   ]
  },
  {
   "cell_type": "code",
   "execution_count": 0,
   "metadata": {
    "colab": {},
    "colab_type": "code",
    "id": "rLlRNkdHvLt6"
   },
   "outputs": [],
   "source": [
    "loss = tf.reduce_mean(tf.square(outputs - y))\n",
    "optimizer = tf.train.AdamOptimizer(learning_rate = learning_rate)\n",
    "train = optimizer.minimize(loss)"
   ]
  },
  {
   "cell_type": "code",
   "execution_count": 0,
   "metadata": {
    "colab": {},
    "colab_type": "code",
    "id": "VlpkuVZRvtON"
   },
   "outputs": [],
   "source": [
    "init = tf.global_variables_initializer()"
   ]
  },
  {
   "cell_type": "code",
   "execution_count": 0,
   "metadata": {
    "colab": {},
    "colab_type": "code",
    "id": "X01iNxG5vy1b"
   },
   "outputs": [],
   "source": [
    "gpu_options = tf.GPUOptions(per_process_gpu_memory_fraction = 0.75)"
   ]
  },
  {
   "cell_type": "markdown",
   "metadata": {},
   "source": [
    "# Saving our model"
   ]
  },
  {
   "cell_type": "code",
   "execution_count": 0,
   "metadata": {
    "colab": {},
    "colab_type": "code",
    "id": "eKEqm-Cxv7yF"
   },
   "outputs": [],
   "source": [
    "saver = tf.train.Saver()"
   ]
  },
  {
   "cell_type": "markdown",
   "metadata": {},
   "source": [
    "# Training our model"
   ]
  },
  {
   "cell_type": "code",
   "execution_count": 20,
   "metadata": {
    "colab": {
     "base_uri": "https://localhost:8080/",
     "height": 357
    },
    "colab_type": "code",
    "id": "nbK_Yir8v_N5",
    "outputId": "56712fab-3349-4dc0-e148-3cca690c6732"
   },
   "outputs": [
    {
     "name": "stdout",
     "output_type": "stream",
     "text": [
      "0 \tMSE: 0.71348435\n",
      "100 \tMSE: 0.06019949\n",
      "200 \tMSE: 0.0041140695\n",
      "300 \tMSE: 0.042214144\n",
      "400 \tMSE: 0.0014438975\n",
      "500 \tMSE: 0.024364034\n",
      "600 \tMSE: 0.00025130465\n",
      "700 \tMSE: 0.01285013\n",
      "800 \tMSE: 0.01670179\n",
      "900 \tMSE: 0.011234803\n",
      "1000 \tMSE: 0.0132672805\n",
      "1100 \tMSE: 0.008344343\n",
      "1200 \tMSE: 0.01725607\n",
      "1300 \tMSE: 0.017493846\n",
      "1400 \tMSE: 0.008109601\n",
      "1500 \tMSE: 0.0056801583\n",
      "1600 \tMSE: 0.0026583502\n",
      "1700 \tMSE: 0.013006643\n",
      "1800 \tMSE: 0.0048239767\n",
      "1900 \tMSE: 0.0075397417\n"
     ]
    }
   ],
   "source": [
    "with tf.Session(config = tf.ConfigProto(gpu_options = gpu_options)) as sess:\n",
    "    sess.run(init)\n",
    "        for iteration in range(num_train_iterations):\n",
    "            X_batch, y_batch = ts_data.next_batch(batch_size, num_time_steps)\n",
    "            sess.run(train, feed_dict={X: X_batch, y: y_batch})\n",
    "            if iteration%100 == 0:\n",
    "                mse = loss.eval(feed_dict={X: X_batch, y:y_batch})\n",
    "            print(iteration, '\\tMSE:', mse)\n",
    "        saver.save(sess, './rnn_time_series_model')"
   ]
  },
  {
   "cell_type": "markdown",
   "metadata": {},
   "source": [
    "# Predicting the continuation"
   ]
  },
  {
   "cell_type": "code",
   "execution_count": 21,
   "metadata": {
    "colab": {
     "base_uri": "https://localhost:8080/",
     "height": 34
    },
    "colab_type": "code",
    "id": "ItwB3xOgw5A7",
    "outputId": "8dae8dc6-0e1f-4bf9-8fc0-2b94b371ba6c"
   },
   "outputs": [
    {
     "name": "stdout",
     "output_type": "stream",
     "text": [
      "INFO:tensorflow:Restoring parameters from ./rnn_time_series_model\n"
     ]
    }
   ],
   "source": [
    "with tf.Session() as sess:\n",
    "    saver.restore(sess, './rnn_time_series_model')\n",
    "  \n",
    "    X_new = np.sin(np.array(train_inst[:-1].reshape(-1, num_time_steps, num_inputs)))\n",
    "    y_pred = sess.run(outputs, feed_dict={X:X_new})"
   ]
  },
  {
   "cell_type": "markdown",
   "metadata": {},
   "source": [
    "# Predicting the value for T = T+1"
   ]
  },
  {
   "cell_type": "code",
   "execution_count": 22,
   "metadata": {
    "colab": {
     "base_uri": "https://localhost:8080/",
     "height": 297
    },
    "colab_type": "code",
    "id": "Kwx3YfrZy4MS",
    "outputId": "a304fa25-2d11-4f03-df4e-fb06fae013c7"
   },
   "outputs": [
    {
     "data": {
      "image/png": "[encoded data removed]",
      "text/plain": [
       "<matplotlib.figure.Figure at 0x7fd521bc0860>"
      ]
     },
     "metadata": {
      "tags": []
     },
     "output_type": "display_data"
    }
   ],
   "source": [
    "plt.title('Testing Model')\n",
    "plt.plot(train_inst[:-1], np.sin(train_inst[:-1]), 'bo', markersize=15, alpha=0.5, label='Training Instance')\n",
    "plt.plot(train_inst[1:], np.sin(train_inst[1:]), 'ko', markersize=10, label='Target')\n",
    "plt.plot(train_inst[1:], y_pred[0,:,0], 'r.', markersize=10, label='Prediction')\n",
    "plt.xlabel('Time')\n",
    "plt.legend()\n",
    "plt.tight_layout()"
   ]
  },
  {
   "cell_type": "markdown",
   "metadata": {},
   "source": [
    "# Generating a Sequence"
   ]
  },
  {
   "cell_type": "code",
   "execution_count": 23,
   "metadata": {
    "colab": {
     "base_uri": "https://localhost:8080/",
     "height": 34
    },
    "colab_type": "code",
    "id": "3u5805Ixzrzy",
    "outputId": "a8464fe6-5185-4525-caa3-abf67a8a810d"
   },
   "outputs": [
    {
     "name": "stdout",
     "output_type": "stream",
     "text": [
      "INFO:tensorflow:Restoring parameters from ./rnn_time_series_model\n"
     ]
    }
   ],
   "source": [
    "with tf.Session() as sess:\n",
    "    saver.restore(sess, './rnn_time_series_model')\n",
    "  \n",
    "    zero_seq_seed = [0. for i in range(num_time_steps)]\n",
    "    for iteration in range(len(ts_data.x_data) - num_time_steps):\n",
    "        X_batch = np.array(zero_seq_seed[-num_time_steps:]).reshape(1, num_time_steps, 1)\n",
    "        y_pred = sess.run(outputs, feed_dict={X: X_batch})\n",
    "        zero_seq_seed.append(y_pred[0, -1, 0])"
   ]
  },
  {
   "cell_type": "markdown",
   "metadata": {},
   "source": [
    "# Plotting the generated sequence\n",
    "Red Line indicates the zeros in the start of the sequence, not a sine wave but its close. Providing a real sine wave may help it to learn the sequence"
   ]
  },
  {
   "cell_type": "code",
   "execution_count": 24,
   "metadata": {
    "colab": {
     "base_uri": "https://localhost:8080/",
     "height": 296
    },
    "colab_type": "code",
    "id": "zZjEFsoO3Ckn",
    "outputId": "e64aa876-cc26-40ea-b430-962ad4c63a4a"
   },
   "outputs": [
    {
     "data": {
      "text/plain": [
       "Text(0,0.5,'Value')"
      ]
     },
     "execution_count": 24,
     "metadata": {
      "tags": []
     },
     "output_type": "execute_result"
    },
    {
     "data": {
      "image/png": "[encoded data removed]",
      "text/plain": [
       "<matplotlib.figure.Figure at 0x7fd52033f240>"
      ]
     },
     "metadata": {
      "tags": []
     },
     "output_type": "display_data"
    }
   ],
   "source": [
    "plt.plot(ts_data.x_data, zero_seq_seed, 'b-')\n",
    "plt.plot(ts_data.x_data[:num_time_steps], zero_seq_seed[:num_time_steps], 'r', linewidth=3)\n",
    "plt.xlabel('Time')\n",
    "plt.ylabel('Value')"
   ]
  },
  {
   "cell_type": "markdown",
   "metadata": {},
   "source": [
    "# Generating the Sine Wave Sequence\n",
    "Seeding it with actual sine wave helps it learn the rest of the sequence"
   ]
  },
  {
   "cell_type": "code",
   "execution_count": 25,
   "metadata": {
    "colab": {
     "base_uri": "https://localhost:8080/",
     "height": 34
    },
    "colab_type": "code",
    "id": "_EmSjMqi3mHJ",
    "outputId": "24f5a09d-125e-4270-dd49-fca473b66762"
   },
   "outputs": [
    {
     "name": "stdout",
     "output_type": "stream",
     "text": [
      "INFO:tensorflow:Restoring parameters from ./rnn_time_series_model\n"
     ]
    }
   ],
   "source": [
    "with tf.Session() as sess:\n",
    "    saver.restore(sess, './rnn_time_series_model')\n",
    "  \n",
    "    training_instance = list(ts_data.y_true[:30])\n",
    "    for iteration in range(len(training_instance) - num_time_steps):\n",
    "        X_batch = np.array(training_instance[-num_time_steps:]).reshape(1, num_time_steps, 1)\n",
    "        y_pred = sess.run(outputs, feed_dict={X:X_batch})\n",
    "        training_instance.append(y_pred[0, -1, 0])"
   ]
  },
  {
   "cell_type": "markdown",
   "metadata": {},
   "source": [
    "# Plotting the generated Sine Wave"
   ]
  },
  {
   "cell_type": "code",
   "execution_count": 26,
   "metadata": {
    "colab": {
     "base_uri": "https://localhost:8080/",
     "height": 296
    },
    "colab_type": "code",
    "id": "y8R7HJnT4sW6",
    "outputId": "bec72715-371f-4753-e986-127a35449a59"
   },
   "outputs": [
    {
     "data": {
      "text/plain": [
       "Text(0.5,0,'Time')"
      ]
     },
     "execution_count": 26,
     "metadata": {
      "tags": []
     },
     "output_type": "execute_result"
    },
    {
     "data": {
      "image/png": "[encoded data removed]",
      "text/plain": [
       "<matplotlib.figure.Figure at 0x7fd520290550>"
      ]
     },
     "metadata": {
      "tags": []
     },
     "output_type": "display_data"
    }
   ],
   "source": [
    "plt.plot(ts_data.x_data, ts_data.y_true, 'b-')\n",
    "plt.plot(ts_data.x_data[:num_time_steps], training_instance[:num_time_steps], 'r-', linewidth=3)\n",
    "plt.xlabel('Time')"
   ]
  },
  {
   "cell_type": "code",
   "execution_count": 0,
   "metadata": {
    "colab": {},
    "colab_type": "code",
    "id": "ZSU64TMr6lx-"
   },
   "outputs": [],
   "source": []
  }
 ],
 "metadata": {
  "accelerator": "GPU",
  "colab": {
   "collapsed_sections": [],
   "name": "RNN with Tensorflow.ipynb",
   "provenance": [],
   "version": "0.3.2"
  },
  "kernelspec": {
   "display_name": "Python 3",
   "language": "python",
   "name": "python3"
  },
  "language_info": {
   "codemirror_mode": {
    "name": "ipython",
    "version": 3
   },
   "file_extension": ".py",
   "mimetype": "text/x-python",
   "name": "python",
   "nbconvert_exporter": "python",
   "pygments_lexer": "ipython3",
   "version": "3.6.5"
  }
 },
 "nbformat": 4,
 "nbformat_minor": 1
}
