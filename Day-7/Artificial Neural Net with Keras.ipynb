{
 "cells": [
  {
   "cell_type": "markdown",
   "metadata": {},
   "source": [
    "# Importing the libraries"
   ]
  },
  {
   "cell_type": "code",
   "execution_count": 1,
   "metadata": {},
   "outputs": [],
   "source": [
    "import numpy as np # For scientific calculations\n",
    "import pandas as pd # For data loading"
   ]
  },
  {
   "cell_type": "markdown",
   "metadata": {},
   "source": [
    "# Importing the Dataset"
   ]
  },
  {
   "cell_type": "code",
   "execution_count": 2,
   "metadata": {},
   "outputs": [],
   "source": [
    "dataset = pd.read_csv('Churn_Modelling.csv')"
   ]
  },
  {
   "cell_type": "code",
   "execution_count": 3,
   "metadata": {},
   "outputs": [
    {
     "data": {
      "text/html": [
       "<div>\n",
       "<style scoped>\n",
       "    .dataframe tbody tr th:only-of-type {\n",
       "        vertical-align: middle;\n",
       "    }\n",
       "\n",
       "    .dataframe tbody tr th {\n",
       "        vertical-align: top;\n",
       "    }\n",
       "\n",
       "    .dataframe thead th {\n",
       "        text-align: right;\n",
       "    }\n",
       "</style>\n",
       "<table border=\"1\" class=\"dataframe\">\n",
       "  <thead>\n",
       "    <tr style=\"text-align: right;\">\n",
       "      <th></th>\n",
       "      <th>RowNumber</th>\n",
       "      <th>CustomerId</th>\n",
       "      <th>Surname</th>\n",
       "      <th>CreditScore</th>\n",
       "      <th>Geography</th>\n",
       "      <th>Gender</th>\n",
       "      <th>Age</th>\n",
       "      <th>Tenure</th>\n",
       "      <th>Balance</th>\n",
       "      <th>NumOfProducts</th>\n",
       "      <th>HasCrCard</th>\n",
       "      <th>IsActiveMember</th>\n",
       "      <th>EstimatedSalary</th>\n",
       "      <th>Exited</th>\n",
       "    </tr>\n",
       "  </thead>\n",
       "  <tbody>\n",
       "    <tr>\n",
       "      <th>0</th>\n",
       "      <td>1</td>\n",
       "      <td>15634602</td>\n",
       "      <td>Hargrave</td>\n",
       "      <td>619</td>\n",
       "      <td>France</td>\n",
       "      <td>Female</td>\n",
       "      <td>42</td>\n",
       "      <td>2</td>\n",
       "      <td>0.00</td>\n",
       "      <td>1</td>\n",
       "      <td>1</td>\n",
       "      <td>1</td>\n",
       "      <td>101348.88</td>\n",
       "      <td>1</td>\n",
       "    </tr>\n",
       "    <tr>\n",
       "      <th>1</th>\n",
       "      <td>2</td>\n",
       "      <td>15647311</td>\n",
       "      <td>Hill</td>\n",
       "      <td>608</td>\n",
       "      <td>Spain</td>\n",
       "      <td>Female</td>\n",
       "      <td>41</td>\n",
       "      <td>1</td>\n",
       "      <td>83807.86</td>\n",
       "      <td>1</td>\n",
       "      <td>0</td>\n",
       "      <td>1</td>\n",
       "      <td>112542.58</td>\n",
       "      <td>0</td>\n",
       "    </tr>\n",
       "    <tr>\n",
       "      <th>2</th>\n",
       "      <td>3</td>\n",
       "      <td>15619304</td>\n",
       "      <td>Onio</td>\n",
       "      <td>502</td>\n",
       "      <td>France</td>\n",
       "      <td>Female</td>\n",
       "      <td>42</td>\n",
       "      <td>8</td>\n",
       "      <td>159660.80</td>\n",
       "      <td>3</td>\n",
       "      <td>1</td>\n",
       "      <td>0</td>\n",
       "      <td>113931.57</td>\n",
       "      <td>1</td>\n",
       "    </tr>\n",
       "    <tr>\n",
       "      <th>3</th>\n",
       "      <td>4</td>\n",
       "      <td>15701354</td>\n",
       "      <td>Boni</td>\n",
       "      <td>699</td>\n",
       "      <td>France</td>\n",
       "      <td>Female</td>\n",
       "      <td>39</td>\n",
       "      <td>1</td>\n",
       "      <td>0.00</td>\n",
       "      <td>2</td>\n",
       "      <td>0</td>\n",
       "      <td>0</td>\n",
       "      <td>93826.63</td>\n",
       "      <td>0</td>\n",
       "    </tr>\n",
       "    <tr>\n",
       "      <th>4</th>\n",
       "      <td>5</td>\n",
       "      <td>15737888</td>\n",
       "      <td>Mitchell</td>\n",
       "      <td>850</td>\n",
       "      <td>Spain</td>\n",
       "      <td>Female</td>\n",
       "      <td>43</td>\n",
       "      <td>2</td>\n",
       "      <td>125510.82</td>\n",
       "      <td>1</td>\n",
       "      <td>1</td>\n",
       "      <td>1</td>\n",
       "      <td>79084.10</td>\n",
       "      <td>0</td>\n",
       "    </tr>\n",
       "  </tbody>\n",
       "</table>\n",
       "</div>"
      ],
      "text/plain": [
       "   RowNumber  CustomerId   Surname  CreditScore Geography  Gender  Age  \\\n",
       "0          1    15634602  Hargrave          619    France  Female   42   \n",
       "1          2    15647311      Hill          608     Spain  Female   41   \n",
       "2          3    15619304      Onio          502    France  Female   42   \n",
       "3          4    15701354      Boni          699    France  Female   39   \n",
       "4          5    15737888  Mitchell          850     Spain  Female   43   \n",
       "\n",
       "   Tenure    Balance  NumOfProducts  HasCrCard  IsActiveMember  \\\n",
       "0       2       0.00              1          1               1   \n",
       "1       1   83807.86              1          0               1   \n",
       "2       8  159660.80              3          1               0   \n",
       "3       1       0.00              2          0               0   \n",
       "4       2  125510.82              1          1               1   \n",
       "\n",
       "   EstimatedSalary  Exited  \n",
       "0        101348.88       1  \n",
       "1        112542.58       0  \n",
       "2        113931.57       1  \n",
       "3         93826.63       0  \n",
       "4         79084.10       0  "
      ]
     },
     "execution_count": 3,
     "metadata": {},
     "output_type": "execute_result"
    }
   ],
   "source": [
    "dataset.head()"
   ]
  },
  {
   "cell_type": "markdown",
   "metadata": {},
   "source": [
    "# Input Data and Output Labels"
   ]
  },
  {
   "cell_type": "code",
   "execution_count": 4,
   "metadata": {},
   "outputs": [],
   "source": [
    "X = dataset.iloc[:, 3:13].values\n",
    "y = dataset.iloc[:, 13].values"
   ]
  },
  {
   "cell_type": "markdown",
   "metadata": {},
   "source": [
    "# Data Preprocessing"
   ]
  },
  {
   "cell_type": "code",
   "execution_count": 5,
   "metadata": {},
   "outputs": [],
   "source": [
    "from sklearn.preprocessing import LabelEncoder, OneHotEncoder"
   ]
  },
  {
   "cell_type": "markdown",
   "metadata": {},
   "source": [
    "## LabelEncoder encodes labels with value between 0 and n_classes-1"
   ]
  },
  {
   "cell_type": "code",
   "execution_count": 6,
   "metadata": {},
   "outputs": [],
   "source": [
    "labelencoder_X_1 = LabelEncoder()\n",
    "X[:, 1] = labelencoder_X_1.fit_transform(X[:, 1])"
   ]
  },
  {
   "cell_type": "code",
   "execution_count": 7,
   "metadata": {},
   "outputs": [],
   "source": [
    "labelencoder_X_2 = LabelEncoder()\n",
    "X[:, 2] = labelencoder_X_2.fit_transform(X[:, 2])"
   ]
  },
  {
   "cell_type": "markdown",
   "metadata": {},
   "source": [
    "## OneHotEncoder\n",
    "The input to this transformer should be an array-like of integers or strings, denoting the values taken on by categorical (discrete) features. The features are encoded using a one-hot (aka ‘one-of-K’ or ‘dummy’) encoding scheme. This creates a binary column for each category and returns a sparse matrix or dense array."
   ]
  },
  {
   "cell_type": "code",
   "execution_count": 8,
   "metadata": {},
   "outputs": [],
   "source": [
    "onehotencoder = OneHotEncoder(categorical_features = [1])\n",
    "X = onehotencoder.fit_transform(X).toarray()\n",
    "X = X[:, 1:]"
   ]
  },
  {
   "cell_type": "markdown",
   "metadata": {},
   "source": [
    "# Performing the Train Test Split"
   ]
  },
  {
   "cell_type": "code",
   "execution_count": 9,
   "metadata": {},
   "outputs": [],
   "source": [
    "from sklearn.model_selection import train_test_split\n",
    "X_train, X_test, y_train, y_test = train_test_split(X, y, test_size=0.2, random_state = 101)\n",
    "# 80:20 Train:Test"
   ]
  },
  {
   "cell_type": "markdown",
   "metadata": {},
   "source": [
    "# Standardize features by removing the mean and scaling to unit variance"
   ]
  },
  {
   "cell_type": "code",
   "execution_count": 10,
   "metadata": {},
   "outputs": [],
   "source": [
    "from sklearn.preprocessing import StandardScaler"
   ]
  },
  {
   "cell_type": "code",
   "execution_count": 11,
   "metadata": {},
   "outputs": [],
   "source": [
    "sc = StandardScaler()\n",
    "X_train = sc.fit_transform(X_train)\n",
    "X_test = sc.transform(X_test)"
   ]
  },
  {
   "cell_type": "markdown",
   "metadata": {},
   "source": [
    "# Importing Keras w/ Tensorflow Backend"
   ]
  },
  {
   "cell_type": "code",
   "execution_count": 12,
   "metadata": {},
   "outputs": [
    {
     "name": "stderr",
     "output_type": "stream",
     "text": [
      "C:\\Users\\Eshban\\Anaconda3\\envs\\100daysofmlcode\\lib\\site-packages\\h5py\\__init__.py:36: FutureWarning: Conversion of the second argument of issubdtype from `float` to `np.floating` is deprecated. In future, it will be treated as `np.float64 == np.dtype(float).type`.\n",
      "  from ._conv import register_converters as _register_converters\n",
      "Using TensorFlow backend.\n"
     ]
    }
   ],
   "source": [
    "import keras\n",
    "from keras.models import Sequential\n",
    "from keras.layers import Dense"
   ]
  },
  {
   "cell_type": "markdown",
   "metadata": {},
   "source": [
    "# Instantiazing a feed-forward network"
   ]
  },
  {
   "cell_type": "code",
   "execution_count": 13,
   "metadata": {},
   "outputs": [],
   "source": [
    "classifier = Sequential()"
   ]
  },
  {
   "cell_type": "markdown",
   "metadata": {},
   "source": [
    "## Layer 1 with 11 inputs, 6 outputs, uniform distribution of weights and ReLU activation function"
   ]
  },
  {
   "cell_type": "code",
   "execution_count": 14,
   "metadata": {},
   "outputs": [
    {
     "name": "stderr",
     "output_type": "stream",
     "text": [
      "C:\\Users\\Eshban\\Anaconda3\\envs\\100daysofmlcode\\lib\\site-packages\\ipykernel_launcher.py:1: UserWarning: Update your `Dense` call to the Keras 2 API: `Dense(kernel_initializer=\"uniform\", activation=\"relu\", input_dim=11, units=6)`\n",
      "  \"\"\"Entry point for launching an IPython kernel.\n"
     ]
    }
   ],
   "source": [
    "classifier.add(Dense(output_dim = 6, kernel_initializer = 'uniform', activation = 'relu', input_dim = 11))"
   ]
  },
  {
   "cell_type": "markdown",
   "metadata": {},
   "source": [
    "## Layer 2 with 6 outputs, uniform distribution of weights and ReLU activation function"
   ]
  },
  {
   "cell_type": "code",
   "execution_count": 15,
   "metadata": {},
   "outputs": [
    {
     "name": "stderr",
     "output_type": "stream",
     "text": [
      "C:\\Users\\Eshban\\Anaconda3\\envs\\100daysofmlcode\\lib\\site-packages\\ipykernel_launcher.py:1: UserWarning: Update your `Dense` call to the Keras 2 API: `Dense(kernel_initializer=\"uniform\", activation=\"relu\", units=6)`\n",
      "  \"\"\"Entry point for launching an IPython kernel.\n"
     ]
    }
   ],
   "source": [
    "classifier.add(Dense(output_dim = 6, kernel_initializer = 'uniform', activation = 'relu'))"
   ]
  },
  {
   "cell_type": "markdown",
   "metadata": {},
   "source": [
    "## Layer 3 with a single output, uniform distribution of weights and a sigmoid activation function"
   ]
  },
  {
   "cell_type": "code",
   "execution_count": 16,
   "metadata": {},
   "outputs": [
    {
     "name": "stderr",
     "output_type": "stream",
     "text": [
      "C:\\Users\\Eshban\\Anaconda3\\envs\\100daysofmlcode\\lib\\site-packages\\ipykernel_launcher.py:1: UserWarning: Update your `Dense` call to the Keras 2 API: `Dense(kernel_initializer=\"uniform\", activation=\"sigmoid\", units=1)`\n",
      "  \"\"\"Entry point for launching an IPython kernel.\n"
     ]
    }
   ],
   "source": [
    "classifier.add(Dense(output_dim = 1, kernel_initializer = 'uniform', activation = 'sigmoid'))"
   ]
  },
  {
   "cell_type": "markdown",
   "metadata": {},
   "source": [
    "# Compiling our neural network "
   ]
  },
  {
   "cell_type": "markdown",
   "metadata": {},
   "source": [
    "## Adam Optimizer\n",
    "The Adam optimization algorithm is an extension to stochastic gradient descent that has recently seen broader adoption for deep learning applications in computer vision and natural language processing. <br />\n",
    "Adam is different to classical stochastic gradient descent. Stochastic gradient descent maintains a single learning rate (termed alpha) for all weight updates and the learning rate does not change during training. A learning rate is maintained for each network weight (parameter) and separately adapted as learning unfolds. Instead of adapting the parameter learning rates based on the average first moment (the mean) as in RMSProp, Adam also makes use of the average of the second moments of the gradients (the uncentered variance). Specifically, the algorithm calculates an exponential moving average of the gradient and the squared gradient, and the parameters beta1 and beta2 control the decay rates of these moving averages."
   ]
  },
  {
   "cell_type": "markdown",
   "metadata": {},
   "source": [
    "## Binary Cross Entropy\n",
    "Cross-entropy loss, or log loss, measures the performance of a classification model whose output is a probability value between 0 and 1. Cross-entropy loss increases as the predicted probability diverges from the actual label. So predicting a probability of .012 when the actual observation label is 1 would be bad and result in a high loss value. A perfect model would have a log loss of 0. <br />\n",
    "In binary classification, where the number of classes M equals 2, cross-entropy can be calculated as: <br />\n",
    "$$-{(y\\log(p) + (1 - y)\\log(1 - p))}$$\n",
    "<br />\n",
    "If M>2 (i.e. multiclass classification), we calculate a separate loss for each class label per observation and sum the result.\n",
    "$$-\\sum_{c=1}^My_{o,c}\\log(p_{o,c})$$"
   ]
  },
  {
   "cell_type": "code",
   "execution_count": 17,
   "metadata": {},
   "outputs": [],
   "source": [
    "classifier.compile(optimizer = 'adam', loss = 'binary_crossentropy', metrics = ['accuracy'])"
   ]
  },
  {
   "cell_type": "markdown",
   "metadata": {},
   "source": [
    "# Training our Model"
   ]
  },
  {
   "cell_type": "markdown",
   "metadata": {},
   "source": [
    "## Epoch\n",
    "One Epoch is when an ENTIRE dataset is passed forward and backward through the neural network only ONCE."
   ]
  },
  {
   "cell_type": "markdown",
   "metadata": {},
   "source": [
    "## Batch Size\n",
    "The entire dataset cannot be passed into the neural net at once. So, we divide our dataset into Number of Batches or sets or parts. \n",
    "You can’t pass the entire dataset into the neural net at once. So, you divide dataset into Number of Batches or sets or parts. So, the total number of training examples present in a single batch is known as the batch size."
   ]
  },
  {
   "cell_type": "code",
   "execution_count": 18,
   "metadata": {},
   "outputs": [
    {
     "name": "stdout",
     "output_type": "stream",
     "text": [
      "Epoch 1/100\n",
      "8000/8000 [==============================] - 4s 516us/step - loss: 0.5041 - acc: 0.7974\n",
      "Epoch 2/100\n",
      "8000/8000 [==============================] - 1s 106us/step - loss: 0.4297 - acc: 0.7982\n",
      "Epoch 3/100\n",
      "8000/8000 [==============================] - 1s 110us/step - loss: 0.4257 - acc: 0.7982\n",
      "Epoch 4/100\n",
      "8000/8000 [==============================] - 1s 107us/step - loss: 0.4228 - acc: 0.7982\n",
      "Epoch 5/100\n",
      "8000/8000 [==============================] - 1s 131us/step - loss: 0.4199 - acc: 0.8134\n",
      "Epoch 6/100\n",
      "8000/8000 [==============================] - 1s 135us/step - loss: 0.4181 - acc: 0.8240\n",
      "Epoch 7/100\n",
      "8000/8000 [==============================] - 1s 119us/step - loss: 0.4166 - acc: 0.8281\n",
      "Epoch 8/100\n",
      "8000/8000 [==============================] - 1s 115us/step - loss: 0.4152 - acc: 0.8281\n",
      "Epoch 9/100\n",
      "8000/8000 [==============================] - 1s 117us/step - loss: 0.4141 - acc: 0.8315\n",
      "Epoch 10/100\n",
      "8000/8000 [==============================] - 1s 124us/step - loss: 0.4131 - acc: 0.8319\n",
      "Epoch 11/100\n",
      "8000/8000 [==============================] - 1s 111us/step - loss: 0.4120 - acc: 0.8327\n",
      "Epoch 12/100\n",
      "8000/8000 [==============================] - 1s 127us/step - loss: 0.4114 - acc: 0.8319\n",
      "Epoch 13/100\n",
      "8000/8000 [==============================] - 1s 118us/step - loss: 0.4106 - acc: 0.8335\n",
      "Epoch 14/100\n",
      "8000/8000 [==============================] - 1s 121us/step - loss: 0.4103 - acc: 0.8350\n",
      "Epoch 15/100\n",
      "8000/8000 [==============================] - 1s 116us/step - loss: 0.4094 - acc: 0.8339\n",
      "Epoch 16/100\n",
      "8000/8000 [==============================] - 1s 126us/step - loss: 0.4085 - acc: 0.8330\n",
      "Epoch 17/100\n",
      "8000/8000 [==============================] - 1s 117us/step - loss: 0.4072 - acc: 0.8340\n",
      "Epoch 18/100\n",
      "8000/8000 [==============================] - 1s 116us/step - loss: 0.4057 - acc: 0.8350\n",
      "Epoch 19/100\n",
      "8000/8000 [==============================] - 1s 123us/step - loss: 0.4042 - acc: 0.8354\n",
      "Epoch 20/100\n",
      "8000/8000 [==============================] - 1s 124us/step - loss: 0.4031 - acc: 0.8346\n",
      "Epoch 21/100\n",
      "8000/8000 [==============================] - 1s 166us/step - loss: 0.4021 - acc: 0.8346\n",
      "Epoch 22/100\n",
      "8000/8000 [==============================] - 1s 153us/step - loss: 0.4017 - acc: 0.8357\n",
      "Epoch 23/100\n",
      "8000/8000 [==============================] - 1s 154us/step - loss: 0.4008 - acc: 0.8345\n",
      "Epoch 24/100\n",
      "8000/8000 [==============================] - 1s 155us/step - loss: 0.3997 - acc: 0.8350\n",
      "Epoch 25/100\n",
      "8000/8000 [==============================] - 1s 149us/step - loss: 0.3997 - acc: 0.8350\n",
      "Epoch 26/100\n",
      "8000/8000 [==============================] - 1s 164us/step - loss: 0.3987 - acc: 0.8344\n",
      "Epoch 27/100\n",
      "8000/8000 [==============================] - 2s 194us/step - loss: 0.3987 - acc: 0.8361\n",
      "Epoch 28/100\n",
      "8000/8000 [==============================] - 1s 181us/step - loss: 0.3983 - acc: 0.8357\n",
      "Epoch 29/100\n",
      "8000/8000 [==============================] - 1s 164us/step - loss: 0.3972 - acc: 0.8370\n",
      "Epoch 30/100\n",
      "8000/8000 [==============================] - 1s 138us/step - loss: 0.3970 - acc: 0.8367\n",
      "Epoch 31/100\n",
      "8000/8000 [==============================] - 1s 144us/step - loss: 0.3965 - acc: 0.8370 1s - loss\n",
      "Epoch 32/100\n",
      "8000/8000 [==============================] - 1s 111us/step - loss: 0.3967 - acc: 0.8354\n",
      "Epoch 33/100\n",
      "8000/8000 [==============================] - 1s 114us/step - loss: 0.3963 - acc: 0.8344\n",
      "Epoch 34/100\n",
      "8000/8000 [==============================] - 1s 143us/step - loss: 0.3963 - acc: 0.8362\n",
      "Epoch 35/100\n",
      "8000/8000 [==============================] - 1s 171us/step - loss: 0.3958 - acc: 0.8366\n",
      "Epoch 36/100\n",
      "8000/8000 [==============================] - 2s 203us/step - loss: 0.3955 - acc: 0.8364\n",
      "Epoch 37/100\n",
      "8000/8000 [==============================] - 2s 231us/step - loss: 0.3959 - acc: 0.8357\n",
      "Epoch 38/100\n",
      "8000/8000 [==============================] - 2s 232us/step - loss: 0.3953 - acc: 0.8359\n",
      "Epoch 39/100\n",
      "8000/8000 [==============================] - 2s 225us/step - loss: 0.3953 - acc: 0.8359\n",
      "Epoch 40/100\n",
      "8000/8000 [==============================] - ETA: 0s - loss: 0.3957 - acc: 0.835 - 2s 190us/step - loss: 0.3953 - acc: 0.8357\n",
      "Epoch 41/100\n",
      "8000/8000 [==============================] - 2s 205us/step - loss: 0.3949 - acc: 0.8376\n",
      "Epoch 42/100\n",
      "8000/8000 [==============================] - 1s 173us/step - loss: 0.3950 - acc: 0.8379\n",
      "Epoch 43/100\n",
      "8000/8000 [==============================] - 1s 178us/step - loss: 0.3949 - acc: 0.8369\n",
      "Epoch 44/100\n",
      "8000/8000 [==============================] - 1s 181us/step - loss: 0.3948 - acc: 0.8374\n",
      "Epoch 45/100\n",
      "8000/8000 [==============================] - 1s 166us/step - loss: 0.3947 - acc: 0.8355\n",
      "Epoch 46/100\n",
      "8000/8000 [==============================] - 1s 157us/step - loss: 0.3946 - acc: 0.8350\n",
      "Epoch 47/100\n",
      "8000/8000 [==============================] - 1s 155us/step - loss: 0.3942 - acc: 0.8360\n",
      "Epoch 48/100\n",
      "8000/8000 [==============================] - 2s 190us/step - loss: 0.3947 - acc: 0.8370\n",
      "Epoch 49/100\n",
      "8000/8000 [==============================] - 2s 210us/step - loss: 0.3945 - acc: 0.8375\n",
      "Epoch 50/100\n",
      "8000/8000 [==============================] - 1s 184us/step - loss: 0.3944 - acc: 0.8386\n",
      "Epoch 51/100\n",
      "8000/8000 [==============================] - 1s 164us/step - loss: 0.3946 - acc: 0.8357\n",
      "Epoch 52/100\n",
      "8000/8000 [==============================] - 1s 166us/step - loss: 0.3943 - acc: 0.8379\n",
      "Epoch 53/100\n",
      "8000/8000 [==============================] - 1s 178us/step - loss: 0.3939 - acc: 0.8372\n",
      "Epoch 54/100\n",
      "8000/8000 [==============================] - 1s 162us/step - loss: 0.3943 - acc: 0.8357\n",
      "Epoch 55/100\n",
      "8000/8000 [==============================] - 1s 149us/step - loss: 0.3940 - acc: 0.8375\n",
      "Epoch 56/100\n",
      "8000/8000 [==============================] - 1s 133us/step - loss: 0.3941 - acc: 0.8382\n",
      "Epoch 57/100\n",
      "8000/8000 [==============================] - 1s 144us/step - loss: 0.3941 - acc: 0.8380\n",
      "Epoch 58/100\n",
      "8000/8000 [==============================] - 1s 140us/step - loss: 0.3942 - acc: 0.8381\n",
      "Epoch 59/100\n",
      "8000/8000 [==============================] - 1s 132us/step - loss: 0.3939 - acc: 0.8361\n",
      "Epoch 60/100\n",
      "8000/8000 [==============================] - 1s 156us/step - loss: 0.3941 - acc: 0.8377\n",
      "Epoch 61/100\n",
      "8000/8000 [==============================] - 1s 153us/step - loss: 0.3945 - acc: 0.8355 1s - los\n",
      "Epoch 62/100\n",
      "8000/8000 [==============================] - 1s 132us/step - loss: 0.3943 - acc: 0.8371\n",
      "Epoch 63/100\n",
      "8000/8000 [==============================] - 1s 133us/step - loss: 0.3940 - acc: 0.8382\n",
      "Epoch 64/100\n",
      "8000/8000 [==============================] - 1s 133us/step - loss: 0.3941 - acc: 0.8377\n",
      "Epoch 65/100\n",
      "8000/8000 [==============================] - 1s 133us/step - loss: 0.3939 - acc: 0.8369\n",
      "Epoch 66/100\n",
      "8000/8000 [==============================] - 1s 132us/step - loss: 0.3936 - acc: 0.8382\n",
      "Epoch 67/100\n",
      "8000/8000 [==============================] - 1s 135us/step - loss: 0.3939 - acc: 0.8362\n",
      "Epoch 68/100\n",
      "8000/8000 [==============================] - 1s 131us/step - loss: 0.3940 - acc: 0.8384\n",
      "Epoch 69/100\n",
      "8000/8000 [==============================] - 1s 133us/step - loss: 0.3938 - acc: 0.8379\n",
      "Epoch 70/100\n",
      "8000/8000 [==============================] - 1s 132us/step - loss: 0.3937 - acc: 0.8362\n",
      "Epoch 71/100\n",
      "8000/8000 [==============================] - 1s 160us/step - loss: 0.3935 - acc: 0.8380\n",
      "Epoch 72/100\n",
      "8000/8000 [==============================] - 1s 144us/step - loss: 0.3937 - acc: 0.8372\n",
      "Epoch 73/100\n",
      "8000/8000 [==============================] - 1s 144us/step - loss: 0.3932 - acc: 0.8379\n",
      "Epoch 74/100\n",
      "8000/8000 [==============================] - 1s 161us/step - loss: 0.3938 - acc: 0.8381 1s - l\n",
      "Epoch 75/100\n",
      "8000/8000 [==============================] - 1s 142us/step - loss: 0.3934 - acc: 0.8386\n",
      "Epoch 76/100\n",
      "8000/8000 [==============================] - 1s 133us/step - loss: 0.3936 - acc: 0.8375\n",
      "Epoch 77/100\n",
      "8000/8000 [==============================] - 1s 134us/step - loss: 0.3932 - acc: 0.8384\n",
      "Epoch 78/100\n",
      "8000/8000 [==============================] - 1s 144us/step - loss: 0.3935 - acc: 0.8382\n",
      "Epoch 79/100\n",
      "8000/8000 [==============================] - 1s 146us/step - loss: 0.3931 - acc: 0.8375\n",
      "Epoch 80/100\n",
      "8000/8000 [==============================] - 1s 144us/step - loss: 0.3935 - acc: 0.8369\n",
      "Epoch 81/100\n"
     ]
    },
    {
     "name": "stdout",
     "output_type": "stream",
     "text": [
      "8000/8000 [==============================] - 1s 142us/step - loss: 0.3932 - acc: 0.8386\n",
      "Epoch 82/100\n",
      "8000/8000 [==============================] - 1s 139us/step - loss: 0.3931 - acc: 0.8385\n",
      "Epoch 83/100\n",
      "8000/8000 [==============================] - 1s 133us/step - loss: 0.3930 - acc: 0.8391\n",
      "Epoch 84/100\n",
      "8000/8000 [==============================] - 1s 149us/step - loss: 0.3929 - acc: 0.8391\n",
      "Epoch 85/100\n",
      "8000/8000 [==============================] - 1s 147us/step - loss: 0.3931 - acc: 0.8381\n",
      "Epoch 86/100\n",
      "8000/8000 [==============================] - 1s 146us/step - loss: 0.3935 - acc: 0.8377\n",
      "Epoch 87/100\n",
      "8000/8000 [==============================] - 1s 146us/step - loss: 0.3929 - acc: 0.8382\n",
      "Epoch 88/100\n",
      "8000/8000 [==============================] - 1s 133us/step - loss: 0.3931 - acc: 0.8386\n",
      "Epoch 89/100\n",
      "8000/8000 [==============================] - 1s 150us/step - loss: 0.3931 - acc: 0.8357\n",
      "Epoch 90/100\n",
      "8000/8000 [==============================] - 1s 145us/step - loss: 0.3929 - acc: 0.8376\n",
      "Epoch 91/100\n",
      "8000/8000 [==============================] - 1s 133us/step - loss: 0.3925 - acc: 0.8384\n",
      "Epoch 92/100\n",
      "8000/8000 [==============================] - 1s 135us/step - loss: 0.3925 - acc: 0.8384\n",
      "Epoch 93/100\n",
      "8000/8000 [==============================] - 1s 134us/step - loss: 0.3929 - acc: 0.8382\n",
      "Epoch 94/100\n",
      "8000/8000 [==============================] - 1s 135us/step - loss: 0.3929 - acc: 0.8386\n",
      "Epoch 95/100\n",
      "8000/8000 [==============================] - 1s 137us/step - loss: 0.3923 - acc: 0.8391\n",
      "Epoch 96/100\n",
      "8000/8000 [==============================] - 1s 133us/step - loss: 0.3931 - acc: 0.8376\n",
      "Epoch 97/100\n",
      "8000/8000 [==============================] - 1s 132us/step - loss: 0.3926 - acc: 0.8386\n",
      "Epoch 98/100\n",
      "8000/8000 [==============================] - 1s 131us/step - loss: 0.3925 - acc: 0.8374\n",
      "Epoch 99/100\n",
      "8000/8000 [==============================] - 1s 133us/step - loss: 0.3929 - acc: 0.8376\n",
      "Epoch 100/100\n",
      "8000/8000 [==============================] - 1s 137us/step - loss: 0.3930 - acc: 0.8371\n"
     ]
    },
    {
     "data": {
      "text/plain": [
       "<keras.callbacks.History at 0x269ad64b860>"
      ]
     },
     "execution_count": 18,
     "metadata": {},
     "output_type": "execute_result"
    }
   ],
   "source": [
    "classifier.fit(X_train, y_train, epochs = 100, batch_size = 10)"
   ]
  },
  {
   "cell_type": "markdown",
   "metadata": {},
   "source": [
    "# Predict the test set results"
   ]
  },
  {
   "cell_type": "code",
   "execution_count": 19,
   "metadata": {},
   "outputs": [],
   "source": [
    "y_pred = classifier.predict(X_test)"
   ]
  },
  {
   "cell_type": "code",
   "execution_count": 20,
   "metadata": {},
   "outputs": [],
   "source": [
    "y_pred = (y_pred > 0.5)"
   ]
  },
  {
   "cell_type": "markdown",
   "metadata": {},
   "source": [
    "# Confusion Matrix"
   ]
  },
  {
   "cell_type": "code",
   "execution_count": 21,
   "metadata": {},
   "outputs": [],
   "source": [
    "from sklearn.metrics import confusion_matrix\n",
    "cm = confusion_matrix(y_test, y_pred)"
   ]
  },
  {
   "cell_type": "code",
   "execution_count": 22,
   "metadata": {},
   "outputs": [
    {
     "name": "stdout",
     "output_type": "stream",
     "text": [
      "[[1537   40]\n",
      " [ 283  140]]\n"
     ]
    }
   ],
   "source": [
    "print(cm)"
   ]
  },
  {
   "cell_type": "markdown",
   "metadata": {},
   "source": [
    "# Classification Report"
   ]
  },
  {
   "cell_type": "code",
   "execution_count": 23,
   "metadata": {},
   "outputs": [],
   "source": [
    "from sklearn.metrics import classification_report\n",
    "target_names = ['Class 0', 'Class 1']\n",
    "cr = classification_report(y_test, y_pred, target_names = target_names)"
   ]
  },
  {
   "cell_type": "code",
   "execution_count": 24,
   "metadata": {},
   "outputs": [
    {
     "name": "stdout",
     "output_type": "stream",
     "text": [
      "             precision    recall  f1-score   support\n",
      "\n",
      "    Class 0       0.84      0.97      0.90      1577\n",
      "    Class 1       0.78      0.33      0.46       423\n",
      "\n",
      "avg / total       0.83      0.84      0.81      2000\n",
      "\n"
     ]
    }
   ],
   "source": [
    "print(cr)"
   ]
  },
  {
   "cell_type": "code",
   "execution_count": null,
   "metadata": {},
   "outputs": [],
   "source": []
  }
 ],
 "metadata": {
  "kernelspec": {
   "display_name": "Python 3",
   "language": "python",
   "name": "python3"
  },
  "language_info": {
   "codemirror_mode": {
    "name": "ipython",
    "version": 3
   },
   "file_extension": ".py",
   "mimetype": "text/x-python",
   "name": "python",
   "nbconvert_exporter": "python",
   "pygments_lexer": "ipython3",
   "version": "3.6.5"
  }
 },
 "nbformat": 4,
 "nbformat_minor": 2
}
