{
 "cells": [
  {
   "cell_type": "markdown",
   "metadata": {},
   "source": [
    "# Artificial Neural Network\n",
    "Artificial Neural Networks also known as Connectionist Systems are computing systems vaguely inspired by the biological neural networks of the animal brain. Such systems \"learn\" to perform tasks by considering examples, generally without being programmed with any task-specific rules. \n",
    "<br />\n",
    "An ANN is based on a collection of connected units or nodes called artificial neurons which loosely model the neurons in a biological brain. Each connection, like the synapses in a biological brain, can transmit a signal from one artificial neuron to another. An artificial neuron that receives a signal can process it and then signal additional artificial neurons connected to it."
   ]
  },
  {
   "cell_type": "markdown",
   "metadata": {},
   "source": [
    "# Importing the Libraries"
   ]
  },
  {
   "cell_type": "markdown",
   "metadata": {},
   "source": [
    "## We'll only need numpy for scientific calculations"
   ]
  },
  {
   "cell_type": "code",
   "execution_count": 12,
   "metadata": {},
   "outputs": [],
   "source": [
    "import numpy as np"
   ]
  },
  {
   "cell_type": "markdown",
   "metadata": {},
   "source": [
    "# Building the Artificial Neural Network Class"
   ]
  },
  {
   "cell_type": "code",
   "execution_count": 29,
   "metadata": {},
   "outputs": [],
   "source": [
    "class ANN():\n",
    "\n",
    "    def __init__(self, input_dim, output_dim):\n",
    "        \n",
    "        # Set input and output dimensions\n",
    "        self.input_dim = input_dim\n",
    "        self.output_dim = output_dim\n",
    "        \n",
    "        # Seeding the random number generator\n",
    "        np.random.seed(101)\n",
    "        \n",
    "        # Assigning random weights to the neuron with mean 0 and range from -1 to 1\n",
    "        self.weights = 2 * np.random.random((self.input_dim, self.output_dim)) - 1\n",
    "\n",
    "        # We'll use the sigmoid function as our activation/threshold function\n",
    "        # It'll give a smooth S shape curve\n",
    "        # We'll pass weighted sum of inputs through this to normalise it from between 0 & 1\n",
    "    def sigmoid(self, x):\n",
    "        return 1 / (1 + np.exp(-x))\n",
    "\n",
    "    # It calculates the derivative of Sigmoid Function\n",
    "    # This is the gradient if the Sigmoid Curve\n",
    "    def sigmoid_derivative(self, x):\n",
    "        return x * (1 - x)\n",
    "\n",
    "    # The process of passing the inputs to further layers\n",
    "    def feed_forward(self, inputs):\n",
    "        return self.sigmoid(np.dot(inputs, self.weights))\n",
    "\n",
    "    # We train our model through trial and error\n",
    "    # Adjusting the weights on each step\n",
    "    def train(self, training_set_inputs, training_set_outputs, num_of_training_iters):\n",
    "\n",
    "        for _ in range(num_of_training_iters):\n",
    "            \n",
    "            # Passes the training data through our neural net\n",
    "            output = self.feed_forward(training_set_inputs)\n",
    "            # Calculates the error\n",
    "            # The difference between predicted output and desired output\n",
    "            error = training_set_outputs - output\n",
    "            # Multiply the error by the input and again by the gradient of the Sigmoid curve.\n",
    "            # This means less confident weights are adjusted more.\n",
    "            # This means inputs, which are zero, do not cause changes to the weights.\n",
    "            adjustment = np.dot(training_set_inputs.T, error * self.sigmoid_derivative(output))\n",
    "            self.weights += adjustment\n"
   ]
  },
  {
   "cell_type": "markdown",
   "metadata": {},
   "source": [
    "# Training & Testing our Neural Net"
   ]
  },
  {
   "cell_type": "markdown",
   "metadata": {},
   "source": [
    "## Initialization"
   ]
  },
  {
   "cell_type": "code",
   "execution_count": 31,
   "metadata": {},
   "outputs": [],
   "source": [
    "# Inintializing a Neural Net\n",
    "# Creating a 3 X 1 matrix\n",
    "# i.e 3 inputs and 1 output\n",
    "neural_net = ANN(3, 1)"
   ]
  },
  {
   "cell_type": "markdown",
   "metadata": {},
   "source": [
    "## Assigning Weights"
   ]
  },
  {
   "cell_type": "code",
   "execution_count": 20,
   "metadata": {},
   "outputs": [
    {
     "name": "stdout",
     "output_type": "stream",
     "text": [
      "Randomly Assigning Weights: \n",
      "[[ 0.03279726]\n",
      " [ 0.14133517]\n",
      " [-0.94305155]]\n"
     ]
    }
   ],
   "source": [
    "print(\"Randomly Assigning Weights: \")\n",
    "print(neural_net.weights)"
   ]
  },
  {
   "cell_type": "markdown",
   "metadata": {},
   "source": [
    "## Input & Expected Output Values"
   ]
  },
  {
   "cell_type": "code",
   "execution_count": 32,
   "metadata": {},
   "outputs": [],
   "source": [
    "# Training Set\n",
    "# 4 Examples\n",
    "# 3 Inputs\n",
    "# 1 Output\n",
    "X = np.array([[0,0,1],[1,1,1],[1,0,1],[0,1,1]])\n",
    "y = np.array([[0,1,1,0]]).T"
   ]
  },
  {
   "cell_type": "markdown",
   "metadata": {},
   "source": [
    "## Training the Neural Net"
   ]
  },
  {
   "cell_type": "code",
   "execution_count": 33,
   "metadata": {},
   "outputs": [],
   "source": [
    "# Training the neural net for n training steps\n",
    "# Weights are adjusted a little bit with each step, hence, providing optimal weights\n",
    "training_steps = 10000\n",
    "neural_net.train(X, y, training_steps)"
   ]
  },
  {
   "cell_type": "markdown",
   "metadata": {},
   "source": [
    "## Adjusted Weights"
   ]
  },
  {
   "cell_type": "code",
   "execution_count": 23,
   "metadata": {},
   "outputs": [
    {
     "name": "stdout",
     "output_type": "stream",
     "text": [
      "Adjusted Weights after Training: \n",
      "[[ 9.67305179]\n",
      " [-0.20801771]\n",
      " [-4.62956218]]\n"
     ]
    }
   ],
   "source": [
    "print(\"Adjusted Weights after Training: \")\n",
    "print(neural_net.weights)"
   ]
  },
  {
   "cell_type": "markdown",
   "metadata": {},
   "source": [
    "## Testing our Neural Net"
   ]
  },
  {
   "cell_type": "code",
   "execution_count": 34,
   "metadata": {},
   "outputs": [
    {
     "name": "stdout",
     "output_type": "stream",
     "text": [
      "New Input: [1,0,0]: \n",
      "[0.99993705]\n"
     ]
    }
   ],
   "source": [
    "# Testing the Neural Network with a new input value\n",
    "print(\"New Input: [1,0,0]: \")\n",
    "print(neural_net.feed_forward(np.array([1,0,0])))"
   ]
  },
  {
   "cell_type": "code",
   "execution_count": null,
   "metadata": {},
   "outputs": [],
   "source": []
  }
 ],
 "metadata": {
  "kernelspec": {
   "display_name": "Python 3",
   "language": "python",
   "name": "python3"
  },
  "language_info": {
   "codemirror_mode": {
    "name": "ipython",
    "version": 3
   },
   "file_extension": ".py",
   "mimetype": "text/x-python",
   "name": "python",
   "nbconvert_exporter": "python",
   "pygments_lexer": "ipython3",
   "version": "3.6.5"
  }
 },
 "nbformat": 4,
 "nbformat_minor": 2
}
