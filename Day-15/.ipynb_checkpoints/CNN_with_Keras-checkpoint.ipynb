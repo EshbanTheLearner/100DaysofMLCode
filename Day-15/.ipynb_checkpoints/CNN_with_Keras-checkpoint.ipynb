{
 "cells": [
  {
   "cell_type": "markdown",
   "metadata": {},
   "source": [
    "# Importing Keras Modules"
   ]
  },
  {
   "cell_type": "code",
   "execution_count": 1,
   "metadata": {
    "colab": {
     "base_uri": "https://localhost:8080/",
     "height": 34
    },
    "colab_type": "code",
    "id": "YjGRP4ndNPQe",
    "outputId": "6318b575-55b9-4fc0-ce2c-27884a1df9dd"
   },
   "outputs": [
    {
     "name": "stderr",
     "output_type": "stream",
     "text": [
      "Using TensorFlow backend.\n"
     ]
    }
   ],
   "source": [
    "from keras.models import Sequential\n",
    "from keras.layers import Conv2D\n",
    "from keras.layers import MaxPooling2D\n",
    "from keras.layers import Flatten\n",
    "from keras.layers import Dense\n",
    "from keras.layers import Dropout\n",
    "from keras.layers import Activation\n",
    "from keras.utils import np_utils\n",
    "from keras.datasets import mnist"
   ]
  },
  {
   "cell_type": "markdown",
   "metadata": {},
   "source": [
    "# Loading MNIST Data"
   ]
  },
  {
   "cell_type": "code",
   "execution_count": 0,
   "metadata": {
    "colab": {},
    "colab_type": "code",
    "id": "Zfwn6tH6r_DD"
   },
   "outputs": [],
   "source": [
    "(X_train, y_train), (X_test, y_test) = mnist.load_data()"
   ]
  },
  {
   "cell_type": "markdown",
   "metadata": {},
   "source": [
    "# Shape of Training Data\n",
    "It contains 60K grayscale images of size 28x28 pixels "
   ]
  },
  {
   "cell_type": "code",
   "execution_count": 3,
   "metadata": {
    "colab": {
     "base_uri": "https://localhost:8080/",
     "height": 34
    },
    "colab_type": "code",
    "id": "BA8DutKYQcx6",
    "outputId": "237ab9b2-3d19-4ff5-cfd0-2e4de8333543"
   },
   "outputs": [
    {
     "name": "stdout",
     "output_type": "stream",
     "text": [
      "(60000, 28, 28)\n"
     ]
    }
   ],
   "source": [
    "print(X_train.shape)"
   ]
  },
  {
   "cell_type": "code",
   "execution_count": 0,
   "metadata": {
    "colab": {},
    "colab_type": "code",
    "id": "ZljsdmvHQjXi"
   },
   "outputs": [],
   "source": [
    "import matplotlib.pyplot as plt"
   ]
  },
  {
   "cell_type": "markdown",
   "metadata": {},
   "source": [
    "# Random Image"
   ]
  },
  {
   "cell_type": "code",
   "execution_count": 5,
   "metadata": {
    "colab": {
     "base_uri": "https://localhost:8080/",
     "height": 364
    },
    "colab_type": "code",
    "id": "uVoantbtQqAB",
    "outputId": "080b020f-b29a-438c-9232-ede17e855f1b"
   },
   "outputs": [
    {
     "data": {
      "text/plain": [
       "<matplotlib.image.AxesImage at 0x7f6897442f60>"
      ]
     },
     "execution_count": 5,
     "metadata": {
      "tags": []
     },
     "output_type": "execute_result"
    },
    {
     "data": {
      "image/png": "[encoded data removed]",
      "text/plain": [
       "<matplotlib.figure.Figure at 0x7f68ddc9d278>"
      ]
     },
     "metadata": {
      "tags": []
     },
     "output_type": "display_data"
    }
   ],
   "source": [
    "plt.imshow(X_train[0])"
   ]
  },
  {
   "cell_type": "markdown",
   "metadata": {},
   "source": [
    "# Reshaping the Input Data to 28x28 and adding a 1-D Depth"
   ]
  },
  {
   "cell_type": "code",
   "execution_count": 0,
   "metadata": {
    "colab": {},
    "colab_type": "code",
    "id": "_h8LAzzOs_y5"
   },
   "outputs": [],
   "source": [
    "X_train = X_train.reshape(X_train.shape[0], 28, 28, 1)\n",
    "X_test = X_test.reshape(X_test.shape[0], 28, 28, 1)"
   ]
  },
  {
   "cell_type": "code",
   "execution_count": 7,
   "metadata": {
    "colab": {
     "base_uri": "https://localhost:8080/",
     "height": 34
    },
    "colab_type": "code",
    "id": "KsCXcanSglkX",
    "outputId": "6f14e378-ae91-4594-973f-f69aa1d481d6"
   },
   "outputs": [
    {
     "name": "stdout",
     "output_type": "stream",
     "text": [
      "(60000, 28, 28, 1)\n"
     ]
    }
   ],
   "source": [
    "print(X_train.shape)"
   ]
  },
  {
   "cell_type": "markdown",
   "metadata": {},
   "source": [
    "# Converting Input Data into Float32"
   ]
  },
  {
   "cell_type": "code",
   "execution_count": 0,
   "metadata": {
    "colab": {},
    "colab_type": "code",
    "id": "0a1P6Gvzh39W"
   },
   "outputs": [],
   "source": [
    "X_train = X_train.astype('float32')\n",
    "X_test = X_test.astype('float32')\n",
    "X_train /= 255\n",
    "X_test /= 255"
   ]
  },
  {
   "cell_type": "markdown",
   "metadata": {},
   "source": [
    "# Output Label Shape"
   ]
  },
  {
   "cell_type": "code",
   "execution_count": 9,
   "metadata": {
    "colab": {
     "base_uri": "https://localhost:8080/",
     "height": 34
    },
    "colab_type": "code",
    "id": "4ZK1Hv0ziMeg",
    "outputId": "90e2eaf6-f2b5-403f-c821-78341b237ae1"
   },
   "outputs": [
    {
     "name": "stdout",
     "output_type": "stream",
     "text": [
      "(60000,)\n"
     ]
    }
   ],
   "source": [
    "print(y_train.shape)"
   ]
  },
  {
   "cell_type": "code",
   "execution_count": 10,
   "metadata": {
    "colab": {
     "base_uri": "https://localhost:8080/",
     "height": 34
    },
    "colab_type": "code",
    "id": "6VhQWZhAvNWA",
    "outputId": "4b2bf006-45e3-48b4-ef60-bd2d0cb88b35"
   },
   "outputs": [
    {
     "name": "stdout",
     "output_type": "stream",
     "text": [
      "[5 0 4 1 9 2 1 3 1 4]\n"
     ]
    }
   ],
   "source": [
    "print(y_train[:10])"
   ]
  },
  {
   "cell_type": "markdown",
   "metadata": {},
   "source": [
    "# Converting 1-D Class Arrays into 10-D class matrices"
   ]
  },
  {
   "cell_type": "code",
   "execution_count": 0,
   "metadata": {
    "colab": {},
    "colab_type": "code",
    "id": "xRYteMSRibub"
   },
   "outputs": [],
   "source": [
    "Y_train = np_utils.to_categorical(y_train, 10)\n",
    "Y_test = np_utils.to_categorical(y_test, 10)"
   ]
  },
  {
   "cell_type": "code",
   "execution_count": 12,
   "metadata": {
    "colab": {
     "base_uri": "https://localhost:8080/",
     "height": 34
    },
    "colab_type": "code",
    "id": "s7c-SnEIiljy",
    "outputId": "c354f003-59a8-428e-ee0f-2372cd9d153d"
   },
   "outputs": [
    {
     "name": "stdout",
     "output_type": "stream",
     "text": [
      "(60000, 10)\n"
     ]
    }
   ],
   "source": [
    "print(Y_train.shape)"
   ]
  },
  {
   "cell_type": "markdown",
   "metadata": {},
   "source": [
    "# Building our Classifier"
   ]
  },
  {
   "cell_type": "code",
   "execution_count": 0,
   "metadata": {
    "colab": {},
    "colab_type": "code",
    "id": "3JpfSlJzyidm"
   },
   "outputs": [],
   "source": [
    "# Sequential Model Classifier\n",
    "classifier = Sequential()\n",
    "\n",
    "# Convolution Input Layer \n",
    "classifier.add(Conv2D(32, (3, 3), activation='relu', input_shape=(28,28,1)))\n",
    "\n",
    "# 2nd Convolution Layer\n",
    "classifier.add(Conv2D(32, (3, 3), activation='relu'))\n",
    "\n",
    "# Max-Pooling Layer\n",
    "classifier.add(MaxPooling2D(pool_size=(2,2)))\n",
    "\n",
    "# Dropout Layer\n",
    "classifier.add(Dropout(0.25))\n",
    "\n",
    "# Flatteing Layer  \n",
    "classifier.add(Flatten())\n",
    "\n",
    "# Dense Neural Network\n",
    "classifier.add(Dense(128, activation='relu'))\n",
    "\n",
    "# 2nd Dropout Layer\n",
    "classifier.add(Dropout(0.5))\n",
    "\n",
    "# 2nd Dense Layer\n",
    "classifier.add(Dense(10, activation='softmax'))"
   ]
  },
  {
   "cell_type": "markdown",
   "metadata": {},
   "source": [
    "# Compiling our Model\n",
    "Adam Optmizier <br />\n",
    "Binary Cross Entropy Loss"
   ]
  },
  {
   "cell_type": "code",
   "execution_count": 0,
   "metadata": {
    "colab": {},
    "colab_type": "code",
    "id": "JDwxy8-oiz4M"
   },
   "outputs": [],
   "source": [
    "classifier.compile(optimizer = 'adam', loss = 'binary_crossentropy', metrics = ['accuracy'])"
   ]
  },
  {
   "cell_type": "markdown",
   "metadata": {},
   "source": [
    "# Fitting our Model\n",
    "Batch Size 32 <br />\n",
    "Epochs 10 <br />"
   ]
  },
  {
   "cell_type": "code",
   "execution_count": 15,
   "metadata": {
    "colab": {
     "base_uri": "https://localhost:8080/",
     "height": 411
    },
    "colab_type": "code",
    "id": "zOQG0uGXnivX",
    "outputId": "dbc8769a-ad1d-467f-c909-4a226fba7e8b"
   },
   "outputs": [
    {
     "name": "stdout",
     "output_type": "stream",
     "text": [
      "Train on 60000 samples, validate on 10000 samples\n",
      "Epoch 1/10\n",
      "60000/60000 [==============================] - 24s 398us/step - loss: 0.0367 - acc: 0.9876 - val_loss: 0.0100 - val_acc: 0.9966\n",
      "Epoch 2/10\n",
      "60000/60000 [==============================] - 22s 367us/step - loss: 0.0163 - acc: 0.9946 - val_loss: 0.0078 - val_acc: 0.9971\n",
      "Epoch 3/10\n",
      "60000/60000 [==============================] - 22s 367us/step - loss: 0.0125 - acc: 0.9958 - val_loss: 0.0061 - val_acc: 0.9977\n",
      "Epoch 4/10\n",
      "60000/60000 [==============================] - 22s 367us/step - loss: 0.0106 - acc: 0.9965 - val_loss: 0.0059 - val_acc: 0.9979\n",
      "Epoch 5/10\n",
      "60000/60000 [==============================] - 22s 367us/step - loss: 0.0091 - acc: 0.9968 - val_loss: 0.0058 - val_acc: 0.9981\n",
      "Epoch 6/10\n",
      "60000/60000 [==============================] - 22s 367us/step - loss: 0.0079 - acc: 0.9974 - val_loss: 0.0051 - val_acc: 0.9982\n",
      "Epoch 7/10\n",
      "60000/60000 [==============================] - 22s 366us/step - loss: 0.0072 - acc: 0.9976 - val_loss: 0.0061 - val_acc: 0.9980\n",
      "Epoch 8/10\n",
      "60000/60000 [==============================] - 22s 368us/step - loss: 0.0066 - acc: 0.9977 - val_loss: 0.0055 - val_acc: 0.9983\n",
      "Epoch 9/10\n",
      "60000/60000 [==============================] - 22s 370us/step - loss: 0.0060 - acc: 0.9979 - val_loss: 0.0057 - val_acc: 0.9982\n",
      "Epoch 10/10\n",
      "60000/60000 [==============================] - 22s 370us/step - loss: 0.0056 - acc: 0.9981 - val_loss: 0.0054 - val_acc: 0.9982\n"
     ]
    },
    {
     "data": {
      "text/plain": [
       "<keras.callbacks.History at 0x7f6894285a20>"
      ]
     },
     "execution_count": 15,
     "metadata": {
      "tags": []
     },
     "output_type": "execute_result"
    }
   ],
   "source": [
    "classifier.fit(X_train, Y_train, batch_size = 32, epochs = 10, verbose = 1, validation_data=(X_test, Y_test))"
   ]
  },
  {
   "cell_type": "markdown",
   "metadata": {},
   "source": [
    "# Evaluating Our Model"
   ]
  },
  {
   "cell_type": "code",
   "execution_count": 0,
   "metadata": {
    "colab": {},
    "colab_type": "code",
    "id": "9i0oi9xMoEqV"
   },
   "outputs": [],
   "source": [
    "score = classifier.evaluate(X_test, Y_test, verbose = 0)"
   ]
  },
  {
   "cell_type": "code",
   "execution_count": 19,
   "metadata": {
    "colab": {
     "base_uri": "https://localhost:8080/",
     "height": 51
    },
    "colab_type": "code",
    "id": "x_Phnj2BoQt2",
    "outputId": "9066664d-37d6-40a2-a5a8-1caef56aa0c9"
   },
   "outputs": [
    {
     "name": "stdout",
     "output_type": "stream",
     "text": [
      "Test loss:  0.005379608469654863\n",
      "Test Accuracy  0.9982299964904785\n"
     ]
    }
   ],
   "source": [
    "print('Test loss: ', score[0])\n",
    "print('Test Accuracy ', score[1])"
   ]
  },
  {
   "cell_type": "code",
   "execution_count": 0,
   "metadata": {
    "colab": {},
    "colab_type": "code",
    "id": "BsoRoTbepcXF"
   },
   "outputs": [],
   "source": []
  }
 ],
 "metadata": {
  "accelerator": "GPU",
  "colab": {
   "collapsed_sections": [],
   "name": "CNN with Keras.ipynb",
   "provenance": [],
   "version": "0.3.2"
  },
  "kernelspec": {
   "display_name": "Python 3",
   "language": "python",
   "name": "python3"
  },
  "language_info": {
   "codemirror_mode": {
    "name": "ipython",
    "version": 3
   },
   "file_extension": ".py",
   "mimetype": "text/x-python",
   "name": "python",
   "nbconvert_exporter": "python",
   "pygments_lexer": "ipython3",
   "version": "3.6.5"
  }
 },
 "nbformat": 4,
 "nbformat_minor": 1
}
